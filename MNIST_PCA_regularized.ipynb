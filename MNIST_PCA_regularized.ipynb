{
  "nbformat": 4,
  "nbformat_minor": 0,
  "metadata": {
    "accelerator": "GPU",
    "colab": {
      "name": "MNIST Spectural_Features.ipynb",
      "provenance": [],
      "collapsed_sections": [],
      "include_colab_link": true
    },
    "kernelspec": {
      "display_name": "Tensorflow (GPU)",
      "language": "python",
      "name": "py3.6-tfgpu"
    },
    "language_info": {
      "codemirror_mode": {
        "name": "ipython",
        "version": 3
      },
      "file_extension": ".py",
      "mimetype": "text/x-python",
      "name": "python",
      "nbconvert_exporter": "python",
      "pygments_lexer": "ipython3",
      "version": "3.6.6"
    }
  },
  "cells": [
    {
      "cell_type": "markdown",
      "metadata": {
        "id": "view-in-github",
        "colab_type": "text"
      },
      "source": [
        "<a href=\"https://colab.research.google.com/github/superp0tat0/Algorithms/blob/master/MNIST_PCA_regularized.ipynb\" target=\"_parent\"><img src=\"https://colab.research.google.com/assets/colab-badge.svg\" alt=\"Open In Colab\"/></a>"
      ]
    },
    {
      "cell_type": "code",
      "metadata": {
        "id": "xHijRDhe8AQ6",
        "colab": {
          "base_uri": "https://localhost:8080/"
        },
        "outputId": "6731213e-6c8d-47d2-d482-5373657fcaf8"
      },
      "source": [
        "!nvidia-smi"
      ],
      "execution_count": 1,
      "outputs": [
        {
          "output_type": "stream",
          "text": [
            "Fri Feb 19 20:02:35 2021       \n",
            "+-----------------------------------------------------------------------------+\n",
            "| NVIDIA-SMI 460.39       Driver Version: 460.32.03    CUDA Version: 11.2     |\n",
            "|-------------------------------+----------------------+----------------------+\n",
            "| GPU  Name        Persistence-M| Bus-Id        Disp.A | Volatile Uncorr. ECC |\n",
            "| Fan  Temp  Perf  Pwr:Usage/Cap|         Memory-Usage | GPU-Util  Compute M. |\n",
            "|                               |                      |               MIG M. |\n",
            "|===============================+======================+======================|\n",
            "|   0  Tesla P100-PCIE...  Off  | 00000000:00:04.0 Off |                    0 |\n",
            "| N/A   35C    P0    27W / 250W |      0MiB / 16280MiB |      0%      Default |\n",
            "|                               |                      |                  N/A |\n",
            "+-------------------------------+----------------------+----------------------+\n",
            "                                                                               \n",
            "+-----------------------------------------------------------------------------+\n",
            "| Processes:                                                                  |\n",
            "|  GPU   GI   CI        PID   Type   Process name                  GPU Memory |\n",
            "|        ID   ID                                                   Usage      |\n",
            "|=============================================================================|\n",
            "|  No running processes found                                                 |\n",
            "+-----------------------------------------------------------------------------+\n"
          ],
          "name": "stdout"
        }
      ]
    },
    {
      "cell_type": "code",
      "metadata": {
        "id": "ZQ1paqfWZAJA"
      },
      "source": [
        "import numpy as np                   # advanced math library\n",
        "import matplotlib.pyplot as plt      # MATLAB like plotting routines\n",
        "import random                        # for generating random numbers\n",
        "\n",
        "from keras.datasets import mnist     # MNIST dataset is included in Keras\n",
        "from keras.datasets import fashion_mnist\n",
        "from keras.datasets import cifar10\n",
        "from keras.models import Sequential  # Model type to be used\n",
        "\n",
        "from keras.layers.core import Dense, Dropout, Activation # Types of layers to be used in our model\n",
        "from keras.utils import np_utils                         # NumPy related tools\n",
        "from sklearn.preprocessing import StandardScaler\n",
        "from sklearn.decomposition import PCA\n",
        "from sklearn.decomposition import KernelPCA as KPCA\n",
        "from sklearn.model_selection import train_test_split\n",
        "\n",
        "# import some additional tools\n",
        "from keras.preprocessing.image import ImageDataGenerator\n",
        "from keras.layers import Conv2D, MaxPooling2D, ZeroPadding2D, GlobalAveragePooling2D, Flatten\n",
        "from keras.layers.normalization import BatchNormalization\n",
        "\n",
        "def model_status(model):\n",
        "    for layer in model.layers:\n",
        "      print(layer, layer.trainable)\n",
        "\n",
        "def build_model_single_dense(first_layer_neuron = 32):\n",
        "  model = Sequential()                                 # Linear stacking of layers\n",
        "  model.add(Dense(first_layer_neuron))                \n",
        "  model.add(Activation('relu'))                     # relu activation\n",
        "\n",
        "  model.add(Dense(10))                                 # final 10 FCN nodes\n",
        "  model.add(Activation('softmax'))                     # softmax activation\n",
        "  model.compile(loss='categorical_crossentropy', optimizer='adam', metrics=['accuracy'])\n",
        "  return model\n",
        "\n",
        "def build_model_complex_dense():\n",
        "  model = Sequential()                                 # Linear stacking of layers\n",
        "  model.add(Dense(32))\n",
        "  model.add(BatchNormalization())             \n",
        "  model.add(Activation('relu'))                     # relu activation\n",
        "\n",
        "  model.add(Dense(64))\n",
        "  model.add(BatchNormalization())             \n",
        "  model.add(Activation('relu'))                     # relu activation\n",
        "\n",
        "  model.add(Dense(128))\n",
        "  model.add(BatchNormalization())             \n",
        "  model.add(Activation('relu'))                     # relu activation\n",
        "\n",
        "  model.add(Dense(64))\n",
        "  model.add(BatchNormalization())             \n",
        "  model.add(Activation('relu'))                     # relu activation\n",
        "\n",
        "  model.add(Dense(32))\n",
        "  model.add(BatchNormalization())             \n",
        "  model.add(Activation('relu'))                     # relu activation\n",
        "\n",
        "  model.add(Dense(10))                                 # final 10 FCN nodes\n",
        "  model.add(Activation('softmax'))                     # softmax activation\n",
        "  model.compile(loss='categorical_crossentropy', optimizer='adam', metrics=['accuracy'])\n",
        "  return model"
      ],
      "execution_count": 2,
      "outputs": []
    },
    {
      "cell_type": "code",
      "metadata": {
        "collapsed": true,
        "id": "vW96zcCvZAJN",
        "colab": {
          "base_uri": "https://localhost:8080/"
        },
        "outputId": "9fc74c9a-de79-4e11-e4d4-5497b48b9a6f"
      },
      "source": [
        "# Reload the MNIST data\n",
        "(X_train, y_train), (X_test, y_test) = cifar10.load_data()\n",
        "X_train = np.mean(X_train, axis = -1)\n",
        "X_test = np.mean(X_test, axis = -1)\n",
        "\n",
        "#Flatten the X data for PCA features\n",
        "X_train_Flatten = X_train.reshape(50000, 32*32)\n",
        "X_test_Flatten = X_test.reshape(10000, 32*32)\n",
        "\n",
        "X_train = X_train.astype('float32')         # change integers to 32-bit floating point numbers\n",
        "X_test = X_test.astype('float32')\n",
        "\n",
        "X_train /= 255                              # normalize each value for each pixel for the entire vector for each input\n",
        "X_test /= 255\n",
        "\n",
        "nb_classes = 10 # number of unique digits\n",
        "Y_train = np_utils.to_categorical(y_train, nb_classes)\n",
        "Y_test = np_utils.to_categorical(y_test, nb_classes)\n",
        "y_random = np.array([random.randint(0,9) for i in range(60000)])\n",
        "Y_random = np_utils.to_categorical(y_random, nb_classes)"
      ],
      "execution_count": 3,
      "outputs": [
        {
          "output_type": "stream",
          "text": [
            "Downloading data from https://www.cs.toronto.edu/~kriz/cifar-10-python.tar.gz\n",
            "170500096/170498071 [==============================] - 3s 0us/step\n"
          ],
          "name": "stdout"
        }
      ]
    },
    {
      "cell_type": "code",
      "metadata": {
        "id": "0xp_JUp4eOoh"
      },
      "source": [
        "obj_pca = PCA(n_components=60)\n",
        "obj_pca.fit(X_train_Flatten)"
      ],
      "execution_count": null,
      "outputs": []
    },
    {
      "cell_type": "code",
      "metadata": {
        "colab": {
          "base_uri": "https://localhost:8080/"
        },
        "id": "316h6rjXKElv",
        "outputId": "c55f72d9-2782-4f33-febd-a4d334a18510"
      },
      "source": [
        "pcs = obj_pca.components_.reshape(60,28,28)"
      ],
      "execution_count": null,
      "outputs": [
        {
          "output_type": "stream",
          "text": [
            "(60, 28, 28)\n"
          ],
          "name": "stdout"
        }
      ]
    },
    {
      "cell_type": "markdown",
      "metadata": {
        "id": "VeRnZ6lFLADu"
      },
      "source": [
        "# Empirical Study 1\n",
        "What does the Principal Components look like for the whole dataset?\n"
      ]
    },
    {
      "cell_type": "code",
      "metadata": {
        "id": "OmewAuEHJgTk"
      },
      "source": [
        "plt.rcParams['figure.figsize'] = (30,12) # Make the figures a bit bigger\n",
        "\n",
        "for i in range(32):\n",
        "    plt.subplot(4,8,i+1)\n",
        "    plt.imshow(pcs[i], cmap='gray', interpolation='none')\n",
        "    \n",
        "plt.tight_layout()"
      ],
      "execution_count": null,
      "outputs": []
    },
    {
      "cell_type": "markdown",
      "metadata": {
        "id": "XAqWZnnPwWIa"
      },
      "source": [
        "# Empirical Study 2a\n",
        "Will PCA benefit of convergence? Yes"
      ]
    },
    {
      "cell_type": "code",
      "metadata": {
        "colab": {
          "base_uri": "https://localhost:8080/"
        },
        "id": "-zg-sjNwnXJy",
        "outputId": "5d25b510-3d12-4411-83bd-1f31a0946c47"
      },
      "source": [
        "# Treat the new PCs as the weights.\n",
        "new_X_train = X_train_Flatten @ obj_pca.components_.T\n",
        "new_X_test = X_test_Flatten @ obj_pca.components_.T\n",
        "print(new_X_train.shape)\n",
        "print(new_X_test.shape)"
      ],
      "execution_count": null,
      "outputs": [
        {
          "output_type": "stream",
          "text": [
            "(60000, 60)\n",
            "(10000, 60)\n"
          ],
          "name": "stdout"
        }
      ]
    },
    {
      "cell_type": "code",
      "metadata": {
        "colab": {
          "background_save": true
        },
        "id": "2wu6Ex0sn8dJ"
      },
      "source": [
        "pca_model = build_model_single_dense(32)\n",
        "pca_history = pca_model.fit(x=new_X_train, y=Y_train, epochs=50, steps_per_epoch=100, validation_data=(new_X_test, Y_test))"
      ],
      "execution_count": null,
      "outputs": []
    },
    {
      "cell_type": "code",
      "metadata": {
        "id": "cAjm6zmowsRu"
      },
      "source": [
        "naive_dense = build_model_single_dense(32)\n",
        "naive_history = naive_dense.fit(x=X_train_Flatten, y=Y_train, epochs=50, steps_per_epoch=100, validation_data=(X_test_Flatten, Y_test))"
      ],
      "execution_count": null,
      "outputs": []
    },
    {
      "cell_type": "code",
      "metadata": {
        "colab": {
          "base_uri": "https://localhost:8080/",
          "height": 295
        },
        "id": "coga7IutqqpB",
        "outputId": "a68dd8b1-be81-4641-ea53-02b1c4acb613"
      },
      "source": [
        "%matplotlib inline\n",
        "plt.plot(pca_history.history['accuracy'])\n",
        "plt.plot(pca_history.history['val_accuracy'])\n",
        "plt.plot(naive_history.history['accuracy'])\n",
        "plt.plot(naive_history.history['val_accuracy'])\n",
        "plt.title('compare model')\n",
        "plt.ylabel('accuracy')\n",
        "plt.xlabel('epoch')\n",
        "plt.legend(['pca_accuracy', 'pca_val_accuracy', 'naive_dence_accuracy', 'naive_dense_val_accuracy'], loc='lower right')\n",
        "plt.show()"
      ],
      "execution_count": null,
      "outputs": [
        {
          "output_type": "display_data",
          "data": {
            "image/png": "[encoded data removed]",
            "text/plain": [
              "<Figure size 432x288 with 1 Axes>"
            ]
          },
          "metadata": {
            "tags": []
          }
        }
      ]
    },
    {
      "cell_type": "markdown",
      "metadata": {
        "id": "W4yCFngZ-NoY"
      },
      "source": [
        "# Empirical Study 2b\n",
        "What does the simple dense layer work with the random labeled datasets?"
      ]
    },
    {
      "cell_type": "code",
      "metadata": {
        "colab": {
          "background_save": true
        },
        "id": "HOKHV2Al-W6T"
      },
      "source": [
        "random_dense = build_model_complex_dense()\n",
        "random_history = random_dense.fit(x = X_train_Flatten, y=Y_random, epochs=500, steps_per_epoch=100, validation_data=(X_test_Flatten, Y_test))"
      ],
      "execution_count": null,
      "outputs": []
    },
    {
      "cell_type": "markdown",
      "metadata": {
        "id": "ldcCchKFLQpX"
      },
      "source": [
        "# The codes below this section will be the CNN network\n"
      ]
    },
    {
      "cell_type": "code",
      "metadata": {
        "id": "WuPe2pl1ZAJO",
        "colab": {
          "base_uri": "https://localhost:8080/"
        },
        "outputId": "33fcaf55-8758-434c-c0b4-37a6b582efb3"
      },
      "source": [
        "# Reload the MNIST data\n",
        "(X_train, y_train), (X_test, y_test) = mnist.load_data()\n",
        "\n",
        "X_train = X_train.reshape(60000, 28, 28, 1) #add an additional dimension to represent the single-channel\n",
        "X_test = X_test.reshape(10000, 28, 28, 1)\n",
        "\n",
        "X_train = X_train.astype('float32')         # change integers to 32-bit floating point numbers\n",
        "X_test = X_test.astype('float32')\n",
        "\n",
        "X_train /= 255                              # normalize each value for each pixel for the entire vector for each input\n",
        "X_test /= 255\n",
        "\n",
        "print(\"Training matrix shape\", X_train.shape)\n",
        "print(\"Testing matrix shape\", X_test.shape)"
      ],
      "execution_count": null,
      "outputs": [
        {
          "output_type": "stream",
          "text": [
            "Downloading data from https://storage.googleapis.com/tensorflow/tf-keras-datasets/mnist.npz\n",
            "11493376/11490434 [==============================] - 0s 0us/step\n",
            "Training matrix shape (60000, 28, 28, 1)\n",
            "Testing matrix shape (10000, 28, 28, 1)\n"
          ],
          "name": "stdout"
        }
      ]
    },
    {
      "cell_type": "code",
      "metadata": {
        "collapsed": true,
        "id": "jeYSTHO5ZAJO"
      },
      "source": [
        "# one-hot format classes\n",
        "\n",
        "nb_classes = 10 # number of unique digits\n",
        "\n",
        "Y_train = np_utils.to_categorical(y_train, nb_classes)\n",
        "Y_test = np_utils.to_categorical(y_test, nb_classes)"
      ],
      "execution_count": null,
      "outputs": []
    },
    {
      "cell_type": "code",
      "metadata": {
        "collapsed": true,
        "id": "Y9Q0wQ9BZAJO"
      },
      "source": [
        "def build_model():\n",
        "  model = Sequential()                                 # Linear stacking of layers\n",
        "  # Convolution Layer 1\n",
        "  model.add(Conv2D(32, (3, 3), input_shape=(28,28,1), padding=\"same\")) # 32 different 3x3 kernels -- so 32 feature maps\n",
        "  model.add(BatchNormalization(axis=-1))\n",
        "  model.add(Activation('relu'))\n",
        "\n",
        "  model.add(Conv2D(32, (3, 3), input_shape=(28,28,1), padding=\"same\")) # 32 different 3x3 kernels -- so 32 feature maps\n",
        "  model.add(Activation('relu'))                     # activation\n",
        "  model.add(BatchNormalization(axis=-1))\n",
        "  model.add(MaxPooling2D())\n",
        "\n",
        "  model.add(Conv2D(64, (3, 3), input_shape=(28,28,1), padding=\"same\")) # 32 different 3x3 kernels -- so 32 feature maps\n",
        "  model.add(Activation('relu'))\n",
        "  model.add(BatchNormalization(axis=-1))\n",
        "\n",
        "  model.add(Conv2D(64, (3, 3), input_shape=(28,28,1), padding=\"same\")) # 32 different 3x3 kernels -- so 32 feature maps\n",
        "  model.add(Activation('relu'))                     # activation\n",
        "  model.add(BatchNormalization(axis=-1))\n",
        "  model.add(MaxPooling2D())\n",
        "\n",
        "  model.add(Flatten())                             # Flatten final layer\n",
        "\n",
        "  # Fully Connected Layer 6\n",
        "  model.add(Dense(512))  \n",
        "  model.add(Dense(10))                                 # final 10 FCN nodes\n",
        "  model.add(Activation('softmax'))                     # softmax activationss='categorical_crossentropy', optimizer='adam', metrics=['accuracy'])\n",
        "  model.compile(loss='categorical_crossentropy', optimizer='SGD', metrics=['accuracy'])\n",
        "  return model"
      ],
      "execution_count": 52,
      "outputs": []
    },
    {
      "cell_type": "markdown",
      "metadata": {
        "id": "6-7ugepG-HGH"
      },
      "source": [
        "#Third Empirical Study: Unlabeled data take the majority, and verify the pretrained steps."
      ]
    },
    {
      "cell_type": "code",
      "metadata": {
        "id": "c3AD3Tmk-R7S"
      },
      "source": [
        "#Reload the datasets\n",
        "(X_train, y_train), (X_test, y_test) = mnist.load_data()\n",
        "X_train = X_train.reshape(60000, 28, 28, 1) #add an additional dimension to represent the single-channel\n",
        "X_test = X_test.reshape(10000, 28, 28, 1)\n",
        "\n",
        "X_train = X_train.astype('float32')         # change integers to 32-bit floating point numbers\n",
        "X_test = X_test.astype('float32')\n",
        "\n",
        "X_train /= 255                              # normalize each value for each pixel for the entire vector for each input\n",
        "X_test /= 255\n",
        "\n",
        "\n",
        "#Futher more, decompose the train set to unlabel train set and label train set. We will try to tranfer the PCA from unlabel dataset to the label dataset.\n",
        "\n",
        "X_unlabel, X_label, y_unlabel, y_label = train_test_split(X_train, y_train, test_size = 1/3)\n",
        "\n",
        "def super_random(x):\n",
        "  y = random.randint(0,9)\n",
        "  while(y == x):\n",
        "    y = random.randint(0,9)\n",
        "  return y\n",
        "\n",
        "nb_classes = 10\n",
        "\n",
        "y_shift = y_unlabel + 1\n",
        "y_shift[y_shift == 10] = 0\n",
        "\n",
        "Y_unlabel = np_utils.to_categorical(y_unlabel, nb_classes)\n",
        "Y_label = np_utils.to_categorical(y_label, nb_classes)\n",
        "Y_random = np_utils.to_categorical([random.randint(0,9) for i in range(40000)], nb_classes)\n",
        "Y_shift = np_utils.to_categorical(y_shift, nb_classes)\n",
        "Y_test = np_utils.to_categorical(y_test, nb_classes)"
      ],
      "execution_count": 61,
      "outputs": []
    },
    {
      "cell_type": "code",
      "metadata": {
        "id": "Il818OLeOIMo",
        "colab": {
          "base_uri": "https://localhost:8080/"
        },
        "outputId": "da9b4cec-7da4-462c-e997-802cdc3f9c4b"
      },
      "source": [
        "#Build the CNN model\n",
        "CNN_model = build_model()\n",
        "CNN_model.fit(x=X_unlabel, y = Y_random, epochs=100, validation_data=(X_test, Y_test))\n",
        "\n",
        "#Freeze some of the layers\n",
        "'''\n",
        "for layer in CNN_model.layers[:]:\n",
        "  layer.trainable = False\n",
        "for i in range(-4, 0):\n",
        "  CNN_model.layers[i].trainable= True\n",
        "\n",
        "model_status(CNN_model)\n",
        "'''\n",
        "\n",
        "#Finetune the dense layers\n",
        "CNN_random_finetune_history = CNN_model.fit(x=X_label, y = Y_label, epochs=50, steps_per_epoch=10, validation_data=(X_test, Y_test))"
      ],
      "execution_count": 62,
      "outputs": [
        {
          "output_type": "stream",
          "text": [
            "Epoch 1/100\n",
            "1250/1250 [==============================] - 6s 5ms/step - loss: 4.1072 - accuracy: 0.1015 - val_loss: 2.3337 - val_accuracy: 0.0907\n",
            "Epoch 2/100\n",
            "1250/1250 [==============================] - 5s 4ms/step - loss: 2.3299 - accuracy: 0.1094 - val_loss: 2.2885 - val_accuracy: 0.1483\n",
            "Epoch 3/100\n",
            "1250/1250 [==============================] - 5s 4ms/step - loss: 2.3095 - accuracy: 0.1090 - val_loss: 2.3406 - val_accuracy: 0.0887\n",
            "Epoch 4/100\n",
            "1250/1250 [==============================] - 5s 4ms/step - loss: 2.3004 - accuracy: 0.1203 - val_loss: 2.2578 - val_accuracy: 0.1512\n",
            "Epoch 5/100\n",
            "1250/1250 [==============================] - 5s 4ms/step - loss: 2.2967 - accuracy: 0.1269 - val_loss: 2.2842 - val_accuracy: 0.1530\n",
            "Epoch 6/100\n",
            "1250/1250 [==============================] - 5s 4ms/step - loss: 2.2948 - accuracy: 0.1271 - val_loss: 2.3257 - val_accuracy: 0.0926\n",
            "Epoch 7/100\n",
            "1250/1250 [==============================] - 5s 4ms/step - loss: 2.2922 - accuracy: 0.1283 - val_loss: 2.3291 - val_accuracy: 0.0937\n",
            "Epoch 8/100\n",
            "1250/1250 [==============================] - 5s 4ms/step - loss: 2.2856 - accuracy: 0.1353 - val_loss: 2.3138 - val_accuracy: 0.1088\n",
            "Epoch 9/100\n",
            "1250/1250 [==============================] - 5s 4ms/step - loss: 2.2803 - accuracy: 0.1393 - val_loss: 2.3367 - val_accuracy: 0.1030\n",
            "Epoch 10/100\n",
            "1250/1250 [==============================] - 5s 4ms/step - loss: 2.2779 - accuracy: 0.1428 - val_loss: 2.3646 - val_accuracy: 0.0778\n",
            "Epoch 11/100\n",
            "1250/1250 [==============================] - 5s 4ms/step - loss: 2.2718 - accuracy: 0.1510 - val_loss: 2.3631 - val_accuracy: 0.1124\n",
            "Epoch 12/100\n",
            "1250/1250 [==============================] - 5s 4ms/step - loss: 2.2624 - accuracy: 0.1531 - val_loss: 2.3409 - val_accuracy: 0.0970\n",
            "Epoch 13/100\n",
            "1250/1250 [==============================] - 5s 4ms/step - loss: 2.2593 - accuracy: 0.1558 - val_loss: 2.3426 - val_accuracy: 0.1176\n",
            "Epoch 14/100\n",
            "1250/1250 [==============================] - 5s 4ms/step - loss: 2.2457 - accuracy: 0.1651 - val_loss: 2.3548 - val_accuracy: 0.1026\n",
            "Epoch 15/100\n",
            "1250/1250 [==============================] - 5s 4ms/step - loss: 2.2348 - accuracy: 0.1753 - val_loss: 2.3077 - val_accuracy: 0.1385\n",
            "Epoch 16/100\n",
            "1250/1250 [==============================] - 5s 4ms/step - loss: 2.2253 - accuracy: 0.1771 - val_loss: 2.4845 - val_accuracy: 0.0811\n",
            "Epoch 17/100\n",
            "1250/1250 [==============================] - 5s 4ms/step - loss: 2.2110 - accuracy: 0.1894 - val_loss: 2.3255 - val_accuracy: 0.1568\n",
            "Epoch 18/100\n",
            "1250/1250 [==============================] - 5s 4ms/step - loss: 2.1957 - accuracy: 0.1964 - val_loss: 2.4099 - val_accuracy: 0.1038\n",
            "Epoch 19/100\n",
            "1250/1250 [==============================] - 5s 4ms/step - loss: 2.1734 - accuracy: 0.2080 - val_loss: 2.5004 - val_accuracy: 0.0887\n",
            "Epoch 20/100\n",
            "1250/1250 [==============================] - 5s 4ms/step - loss: 2.1587 - accuracy: 0.2116 - val_loss: 2.4831 - val_accuracy: 0.0979\n",
            "Epoch 21/100\n",
            "1250/1250 [==============================] - 5s 4ms/step - loss: 2.1350 - accuracy: 0.2229 - val_loss: 2.4159 - val_accuracy: 0.1464\n",
            "Epoch 22/100\n",
            "1250/1250 [==============================] - 5s 4ms/step - loss: 2.1065 - accuracy: 0.2405 - val_loss: 2.4487 - val_accuracy: 0.1178\n",
            "Epoch 23/100\n",
            "1250/1250 [==============================] - 5s 4ms/step - loss: 2.0864 - accuracy: 0.2506 - val_loss: 2.5084 - val_accuracy: 0.0989\n",
            "Epoch 24/100\n",
            "1250/1250 [==============================] - 5s 4ms/step - loss: 2.0532 - accuracy: 0.2678 - val_loss: 2.6304 - val_accuracy: 0.0865\n",
            "Epoch 25/100\n",
            "1250/1250 [==============================] - 5s 4ms/step - loss: 2.0259 - accuracy: 0.2824 - val_loss: 2.6091 - val_accuracy: 0.0863\n",
            "Epoch 26/100\n",
            "1250/1250 [==============================] - 5s 4ms/step - loss: 1.9888 - accuracy: 0.2891 - val_loss: 2.5726 - val_accuracy: 0.0932\n",
            "Epoch 27/100\n",
            "1250/1250 [==============================] - 5s 4ms/step - loss: 1.9617 - accuracy: 0.3072 - val_loss: 2.6086 - val_accuracy: 0.1103\n",
            "Epoch 28/100\n",
            "1250/1250 [==============================] - 5s 4ms/step - loss: 1.9149 - accuracy: 0.3210 - val_loss: 2.5801 - val_accuracy: 0.1218\n",
            "Epoch 29/100\n",
            "1250/1250 [==============================] - 5s 4ms/step - loss: 1.8815 - accuracy: 0.3388 - val_loss: 2.7398 - val_accuracy: 0.1144\n",
            "Epoch 30/100\n",
            "1250/1250 [==============================] - 5s 4ms/step - loss: 1.8542 - accuracy: 0.3500 - val_loss: 2.7849 - val_accuracy: 0.0917\n",
            "Epoch 31/100\n",
            "1250/1250 [==============================] - 5s 4ms/step - loss: 1.8075 - accuracy: 0.3665 - val_loss: 2.7124 - val_accuracy: 0.1030\n",
            "Epoch 32/100\n",
            "1250/1250 [==============================] - 5s 4ms/step - loss: 1.7725 - accuracy: 0.3834 - val_loss: 2.9220 - val_accuracy: 0.0886\n",
            "Epoch 33/100\n",
            "1250/1250 [==============================] - 5s 4ms/step - loss: 1.7399 - accuracy: 0.3919 - val_loss: 2.9760 - val_accuracy: 0.1019\n",
            "Epoch 34/100\n",
            "1250/1250 [==============================] - 5s 4ms/step - loss: 1.7004 - accuracy: 0.4100 - val_loss: 2.8783 - val_accuracy: 0.1121\n",
            "Epoch 35/100\n",
            "1250/1250 [==============================] - 5s 4ms/step - loss: 1.6553 - accuracy: 0.4239 - val_loss: 2.9586 - val_accuracy: 0.0920\n",
            "Epoch 36/100\n",
            "1250/1250 [==============================] - 5s 4ms/step - loss: 1.6163 - accuracy: 0.4387 - val_loss: 3.0354 - val_accuracy: 0.0908\n",
            "Epoch 37/100\n",
            "1250/1250 [==============================] - 5s 4ms/step - loss: 1.5870 - accuracy: 0.4517 - val_loss: 3.1587 - val_accuracy: 0.1123\n",
            "Epoch 38/100\n",
            "1250/1250 [==============================] - 5s 4ms/step - loss: 1.5454 - accuracy: 0.4672 - val_loss: 3.0560 - val_accuracy: 0.1097\n",
            "Epoch 39/100\n",
            "1250/1250 [==============================] - 6s 4ms/step - loss: 1.5100 - accuracy: 0.4768 - val_loss: 3.1071 - val_accuracy: 0.1079\n",
            "Epoch 40/100\n",
            "1250/1250 [==============================] - 5s 4ms/step - loss: 1.4692 - accuracy: 0.4968 - val_loss: 3.2290 - val_accuracy: 0.0940\n",
            "Epoch 41/100\n",
            "1250/1250 [==============================] - 5s 4ms/step - loss: 1.4405 - accuracy: 0.5066 - val_loss: 3.0826 - val_accuracy: 0.1290\n",
            "Epoch 42/100\n",
            "1250/1250 [==============================] - 5s 4ms/step - loss: 1.4045 - accuracy: 0.5176 - val_loss: 3.2720 - val_accuracy: 0.0998\n",
            "Epoch 43/100\n",
            "1250/1250 [==============================] - 5s 4ms/step - loss: 1.3690 - accuracy: 0.5300 - val_loss: 3.3956 - val_accuracy: 0.0949\n",
            "Epoch 44/100\n",
            "1250/1250 [==============================] - 5s 4ms/step - loss: 1.3377 - accuracy: 0.5378 - val_loss: 3.4085 - val_accuracy: 0.1069\n",
            "Epoch 45/100\n",
            "1250/1250 [==============================] - 5s 4ms/step - loss: 1.3139 - accuracy: 0.5476 - val_loss: 3.5481 - val_accuracy: 0.0932\n",
            "Epoch 46/100\n",
            "1250/1250 [==============================] - 5s 4ms/step - loss: 1.2787 - accuracy: 0.5598 - val_loss: 3.5778 - val_accuracy: 0.0924\n",
            "Epoch 47/100\n",
            "1250/1250 [==============================] - 5s 4ms/step - loss: 1.2504 - accuracy: 0.5684 - val_loss: 3.5908 - val_accuracy: 0.1065\n",
            "Epoch 48/100\n",
            "1250/1250 [==============================] - 5s 4ms/step - loss: 1.2098 - accuracy: 0.5829 - val_loss: 3.5886 - val_accuracy: 0.1135\n",
            "Epoch 49/100\n",
            "1250/1250 [==============================] - 5s 4ms/step - loss: 1.1809 - accuracy: 0.5954 - val_loss: 3.7771 - val_accuracy: 0.0971\n",
            "Epoch 50/100\n",
            "1250/1250 [==============================] - 5s 4ms/step - loss: 1.1565 - accuracy: 0.6024 - val_loss: 3.8499 - val_accuracy: 0.1031\n",
            "Epoch 51/100\n",
            "1250/1250 [==============================] - 5s 4ms/step - loss: 1.1249 - accuracy: 0.6133 - val_loss: 3.9344 - val_accuracy: 0.0986\n",
            "Epoch 52/100\n",
            "1250/1250 [==============================] - 5s 4ms/step - loss: 1.1046 - accuracy: 0.6175 - val_loss: 3.9842 - val_accuracy: 0.1089\n",
            "Epoch 53/100\n",
            "1250/1250 [==============================] - 5s 4ms/step - loss: 1.0819 - accuracy: 0.6262 - val_loss: 4.0922 - val_accuracy: 0.0991\n",
            "Epoch 54/100\n",
            "1250/1250 [==============================] - 5s 4ms/step - loss: 1.0523 - accuracy: 0.6379 - val_loss: 4.0735 - val_accuracy: 0.1028\n",
            "Epoch 55/100\n",
            "1250/1250 [==============================] - 5s 4ms/step - loss: 1.0247 - accuracy: 0.6481 - val_loss: 4.0206 - val_accuracy: 0.1084\n",
            "Epoch 56/100\n",
            "1250/1250 [==============================] - 5s 4ms/step - loss: 0.9965 - accuracy: 0.6563 - val_loss: 4.2471 - val_accuracy: 0.1010\n",
            "Epoch 57/100\n",
            "1250/1250 [==============================] - 5s 4ms/step - loss: 0.9753 - accuracy: 0.6639 - val_loss: 4.1745 - val_accuracy: 0.1130\n",
            "Epoch 58/100\n",
            "1250/1250 [==============================] - 6s 5ms/step - loss: 0.9566 - accuracy: 0.6666 - val_loss: 4.2624 - val_accuracy: 0.1163\n",
            "Epoch 59/100\n",
            "1250/1250 [==============================] - 6s 5ms/step - loss: 0.9352 - accuracy: 0.6736 - val_loss: 4.3613 - val_accuracy: 0.1084\n",
            "Epoch 60/100\n",
            "1250/1250 [==============================] - 5s 4ms/step - loss: 0.9135 - accuracy: 0.6824 - val_loss: 4.6442 - val_accuracy: 0.0933\n",
            "Epoch 61/100\n",
            "1250/1250 [==============================] - 5s 4ms/step - loss: 0.8959 - accuracy: 0.6894 - val_loss: 4.5822 - val_accuracy: 0.1092\n",
            "Epoch 62/100\n",
            "1250/1250 [==============================] - 5s 4ms/step - loss: 0.8710 - accuracy: 0.6992 - val_loss: 4.6978 - val_accuracy: 0.0971\n",
            "Epoch 63/100\n",
            "1250/1250 [==============================] - 5s 4ms/step - loss: 0.8487 - accuracy: 0.7022 - val_loss: 4.8726 - val_accuracy: 0.0968\n",
            "Epoch 64/100\n",
            "1250/1250 [==============================] - 5s 4ms/step - loss: 0.8331 - accuracy: 0.7100 - val_loss: 4.7298 - val_accuracy: 0.1033\n",
            "Epoch 65/100\n",
            "1250/1250 [==============================] - 5s 4ms/step - loss: 0.8015 - accuracy: 0.7193 - val_loss: 4.9072 - val_accuracy: 0.1040\n",
            "Epoch 66/100\n",
            "1250/1250 [==============================] - 5s 4ms/step - loss: 0.7949 - accuracy: 0.7226 - val_loss: 4.9073 - val_accuracy: 0.0974\n",
            "Epoch 67/100\n",
            "1250/1250 [==============================] - 5s 4ms/step - loss: 0.7819 - accuracy: 0.7284 - val_loss: 4.9921 - val_accuracy: 0.1116\n",
            "Epoch 68/100\n",
            "1250/1250 [==============================] - 6s 4ms/step - loss: 0.7747 - accuracy: 0.7300 - val_loss: 5.0799 - val_accuracy: 0.1066\n",
            "Epoch 69/100\n",
            "1250/1250 [==============================] - 5s 4ms/step - loss: 0.7519 - accuracy: 0.7399 - val_loss: 5.2577 - val_accuracy: 0.1002\n",
            "Epoch 70/100\n",
            "1250/1250 [==============================] - 5s 4ms/step - loss: 0.7272 - accuracy: 0.7463 - val_loss: 5.2975 - val_accuracy: 0.0989\n",
            "Epoch 71/100\n",
            "1250/1250 [==============================] - 5s 4ms/step - loss: 0.7113 - accuracy: 0.7509 - val_loss: 5.1181 - val_accuracy: 0.1168\n",
            "Epoch 72/100\n",
            "1250/1250 [==============================] - 5s 4ms/step - loss: 0.6848 - accuracy: 0.7621 - val_loss: 5.4518 - val_accuracy: 0.1149\n",
            "Epoch 73/100\n",
            "1250/1250 [==============================] - 5s 4ms/step - loss: 0.6814 - accuracy: 0.7610 - val_loss: 5.7989 - val_accuracy: 0.0883\n",
            "Epoch 74/100\n",
            "1250/1250 [==============================] - 5s 4ms/step - loss: 0.6806 - accuracy: 0.7611 - val_loss: 5.6048 - val_accuracy: 0.1039\n",
            "Epoch 75/100\n",
            "1250/1250 [==============================] - 6s 4ms/step - loss: 0.6570 - accuracy: 0.7697 - val_loss: 5.7744 - val_accuracy: 0.1043\n",
            "Epoch 76/100\n",
            "1250/1250 [==============================] - 5s 4ms/step - loss: 0.6562 - accuracy: 0.7688 - val_loss: 5.8872 - val_accuracy: 0.1034\n",
            "Epoch 77/100\n",
            "1250/1250 [==============================] - 5s 4ms/step - loss: 0.6401 - accuracy: 0.7773 - val_loss: 5.9513 - val_accuracy: 0.0988\n",
            "Epoch 78/100\n",
            "1250/1250 [==============================] - 5s 4ms/step - loss: 0.6223 - accuracy: 0.7814 - val_loss: 5.8751 - val_accuracy: 0.1109\n",
            "Epoch 79/100\n",
            "1250/1250 [==============================] - 5s 4ms/step - loss: 0.5887 - accuracy: 0.7926 - val_loss: 6.0619 - val_accuracy: 0.1010\n",
            "Epoch 80/100\n",
            "1250/1250 [==============================] - 5s 4ms/step - loss: 0.5909 - accuracy: 0.7917 - val_loss: 6.4099 - val_accuracy: 0.0961\n",
            "Epoch 81/100\n",
            "1250/1250 [==============================] - 5s 4ms/step - loss: 0.5660 - accuracy: 0.8003 - val_loss: 6.0120 - val_accuracy: 0.1204\n",
            "Epoch 82/100\n",
            "1250/1250 [==============================] - 5s 4ms/step - loss: 0.5682 - accuracy: 0.7990 - val_loss: 6.3632 - val_accuracy: 0.1073\n",
            "Epoch 83/100\n",
            "1250/1250 [==============================] - 6s 4ms/step - loss: 0.5560 - accuracy: 0.8065 - val_loss: 6.3911 - val_accuracy: 0.1024\n",
            "Epoch 84/100\n",
            "1250/1250 [==============================] - 5s 4ms/step - loss: 0.5436 - accuracy: 0.8079 - val_loss: 6.6054 - val_accuracy: 0.1038\n",
            "Epoch 85/100\n",
            "1250/1250 [==============================] - 5s 4ms/step - loss: 0.5347 - accuracy: 0.8124 - val_loss: 6.5029 - val_accuracy: 0.1156\n",
            "Epoch 86/100\n",
            "1250/1250 [==============================] - 6s 4ms/step - loss: 0.5392 - accuracy: 0.8067 - val_loss: 6.5879 - val_accuracy: 0.1124\n",
            "Epoch 87/100\n",
            "1250/1250 [==============================] - 6s 5ms/step - loss: 0.5087 - accuracy: 0.8178 - val_loss: 7.1872 - val_accuracy: 0.0920\n",
            "Epoch 88/100\n",
            "1250/1250 [==============================] - 5s 4ms/step - loss: 0.5093 - accuracy: 0.8177 - val_loss: 6.8691 - val_accuracy: 0.0998\n",
            "Epoch 89/100\n",
            "1250/1250 [==============================] - 5s 4ms/step - loss: 0.4908 - accuracy: 0.8250 - val_loss: 7.0458 - val_accuracy: 0.0996\n",
            "Epoch 90/100\n",
            "1250/1250 [==============================] - 5s 4ms/step - loss: 0.4877 - accuracy: 0.8257 - val_loss: 7.1198 - val_accuracy: 0.0957\n",
            "Epoch 91/100\n",
            "1250/1250 [==============================] - 5s 4ms/step - loss: 0.4784 - accuracy: 0.8287 - val_loss: 7.3163 - val_accuracy: 0.0969\n",
            "Epoch 92/100\n",
            "1250/1250 [==============================] - 5s 4ms/step - loss: 0.4663 - accuracy: 0.8345 - val_loss: 7.6109 - val_accuracy: 0.0942\n",
            "Epoch 93/100\n",
            "1250/1250 [==============================] - 6s 4ms/step - loss: 0.4608 - accuracy: 0.8351 - val_loss: 7.3549 - val_accuracy: 0.1008\n",
            "Epoch 94/100\n",
            "1250/1250 [==============================] - 6s 4ms/step - loss: 0.4510 - accuracy: 0.8401 - val_loss: 7.4186 - val_accuracy: 0.0961\n",
            "Epoch 95/100\n",
            "1250/1250 [==============================] - 6s 5ms/step - loss: 0.4423 - accuracy: 0.8419 - val_loss: 7.5905 - val_accuracy: 0.0959\n",
            "Epoch 96/100\n",
            "1250/1250 [==============================] - 5s 4ms/step - loss: 0.4393 - accuracy: 0.8396 - val_loss: 7.6777 - val_accuracy: 0.0941\n",
            "Epoch 97/100\n",
            "1250/1250 [==============================] - 5s 4ms/step - loss: 0.4271 - accuracy: 0.8469 - val_loss: 7.7994 - val_accuracy: 0.1035\n",
            "Epoch 98/100\n",
            "1250/1250 [==============================] - 5s 4ms/step - loss: 0.4210 - accuracy: 0.8477 - val_loss: 7.6679 - val_accuracy: 0.1024\n",
            "Epoch 99/100\n",
            "1250/1250 [==============================] - 6s 4ms/step - loss: 0.4042 - accuracy: 0.8562 - val_loss: 7.8899 - val_accuracy: 0.1070\n",
            "Epoch 100/100\n",
            "1250/1250 [==============================] - 6s 4ms/step - loss: 0.4037 - accuracy: 0.8552 - val_loss: 7.9455 - val_accuracy: 0.1105\n",
            "Epoch 1/50\n",
            "10/10 [==============================] - 2s 154ms/step - loss: 4.7554 - accuracy: 0.3063 - val_loss: 2.9751 - val_accuracy: 0.4980\n",
            "Epoch 2/50\n",
            "10/10 [==============================] - 1s 151ms/step - loss: 2.1064 - accuracy: 0.5871 - val_loss: 1.9527 - val_accuracy: 0.6408\n",
            "Epoch 3/50\n",
            "10/10 [==============================] - 1s 152ms/step - loss: 1.4208 - accuracy: 0.7000 - val_loss: 1.5188 - val_accuracy: 0.7133\n",
            "Epoch 4/50\n",
            "10/10 [==============================] - 1s 151ms/step - loss: 1.1081 - accuracy: 0.7545 - val_loss: 1.2725 - val_accuracy: 0.7571\n",
            "Epoch 5/50\n",
            "10/10 [==============================] - 1s 148ms/step - loss: 0.9261 - accuracy: 0.7893 - val_loss: 1.1116 - val_accuracy: 0.7841\n",
            "Epoch 6/50\n",
            "10/10 [==============================] - 1s 147ms/step - loss: 0.8052 - accuracy: 0.8135 - val_loss: 0.9965 - val_accuracy: 0.8025\n",
            "Epoch 7/50\n",
            "10/10 [==============================] - 1s 151ms/step - loss: 0.7176 - accuracy: 0.8304 - val_loss: 0.9074 - val_accuracy: 0.8162\n",
            "Epoch 8/50\n",
            "10/10 [==============================] - 1s 154ms/step - loss: 0.6503 - accuracy: 0.8436 - val_loss: 0.8344 - val_accuracy: 0.8290\n",
            "Epoch 9/50\n",
            "10/10 [==============================] - 1s 150ms/step - loss: 0.5975 - accuracy: 0.8558 - val_loss: 0.7750 - val_accuracy: 0.8395\n",
            "Epoch 10/50\n",
            "10/10 [==============================] - 1s 150ms/step - loss: 0.5535 - accuracy: 0.8642 - val_loss: 0.7239 - val_accuracy: 0.8489\n",
            "Epoch 11/50\n",
            "10/10 [==============================] - 1s 151ms/step - loss: 0.5170 - accuracy: 0.8719 - val_loss: 0.6816 - val_accuracy: 0.8555\n",
            "Epoch 12/50\n",
            "10/10 [==============================] - 1s 152ms/step - loss: 0.4860 - accuracy: 0.8789 - val_loss: 0.6455 - val_accuracy: 0.8622\n",
            "Epoch 13/50\n",
            "10/10 [==============================] - 1s 154ms/step - loss: 0.4589 - accuracy: 0.8843 - val_loss: 0.6136 - val_accuracy: 0.8686\n",
            "Epoch 14/50\n",
            "10/10 [==============================] - 1s 151ms/step - loss: 0.4355 - accuracy: 0.8885 - val_loss: 0.5859 - val_accuracy: 0.8732\n",
            "Epoch 15/50\n",
            "10/10 [==============================] - 1s 157ms/step - loss: 0.4145 - accuracy: 0.8939 - val_loss: 0.5607 - val_accuracy: 0.8771\n",
            "Epoch 16/50\n",
            "10/10 [==============================] - 1s 151ms/step - loss: 0.3952 - accuracy: 0.8979 - val_loss: 0.5382 - val_accuracy: 0.8811\n",
            "Epoch 17/50\n",
            "10/10 [==============================] - 1s 147ms/step - loss: 0.3781 - accuracy: 0.9018 - val_loss: 0.5180 - val_accuracy: 0.8843\n",
            "Epoch 18/50\n",
            "10/10 [==============================] - 1s 152ms/step - loss: 0.3625 - accuracy: 0.9054 - val_loss: 0.5003 - val_accuracy: 0.8883\n",
            "Epoch 19/50\n",
            "10/10 [==============================] - 1s 153ms/step - loss: 0.3489 - accuracy: 0.9080 - val_loss: 0.4845 - val_accuracy: 0.8905\n",
            "Epoch 20/50\n",
            "10/10 [==============================] - 1s 154ms/step - loss: 0.3357 - accuracy: 0.9109 - val_loss: 0.4699 - val_accuracy: 0.8932\n",
            "Epoch 21/50\n",
            "10/10 [==============================] - 1s 153ms/step - loss: 0.3240 - accuracy: 0.9143 - val_loss: 0.4566 - val_accuracy: 0.8949\n",
            "Epoch 22/50\n",
            "10/10 [==============================] - 1s 150ms/step - loss: 0.3130 - accuracy: 0.9164 - val_loss: 0.4445 - val_accuracy: 0.8976\n",
            "Epoch 23/50\n",
            "10/10 [==============================] - 1s 152ms/step - loss: 0.3027 - accuracy: 0.9184 - val_loss: 0.4329 - val_accuracy: 0.8992\n",
            "Epoch 24/50\n",
            "10/10 [==============================] - 1s 150ms/step - loss: 0.2931 - accuracy: 0.9212 - val_loss: 0.4224 - val_accuracy: 0.9003\n",
            "Epoch 25/50\n",
            "10/10 [==============================] - 1s 151ms/step - loss: 0.2844 - accuracy: 0.9236 - val_loss: 0.4128 - val_accuracy: 0.9022\n",
            "Epoch 26/50\n",
            "10/10 [==============================] - 1s 150ms/step - loss: 0.2763 - accuracy: 0.9251 - val_loss: 0.4040 - val_accuracy: 0.9041\n",
            "Epoch 27/50\n",
            "10/10 [==============================] - 1s 149ms/step - loss: 0.2682 - accuracy: 0.9273 - val_loss: 0.3957 - val_accuracy: 0.9055\n",
            "Epoch 28/50\n",
            "10/10 [==============================] - 1s 149ms/step - loss: 0.2609 - accuracy: 0.9294 - val_loss: 0.3877 - val_accuracy: 0.9070\n",
            "Epoch 29/50\n",
            "10/10 [==============================] - 1s 149ms/step - loss: 0.2539 - accuracy: 0.9305 - val_loss: 0.3804 - val_accuracy: 0.9083\n",
            "Epoch 30/50\n",
            "10/10 [==============================] - 1s 150ms/step - loss: 0.2474 - accuracy: 0.9324 - val_loss: 0.3736 - val_accuracy: 0.9096\n",
            "Epoch 31/50\n",
            "10/10 [==============================] - 1s 151ms/step - loss: 0.2409 - accuracy: 0.9338 - val_loss: 0.3673 - val_accuracy: 0.9120\n",
            "Epoch 32/50\n",
            "10/10 [==============================] - 1s 149ms/step - loss: 0.2351 - accuracy: 0.9349 - val_loss: 0.3614 - val_accuracy: 0.9131\n",
            "Epoch 33/50\n",
            "10/10 [==============================] - 1s 151ms/step - loss: 0.2294 - accuracy: 0.9365 - val_loss: 0.3560 - val_accuracy: 0.9141\n",
            "Epoch 34/50\n",
            "10/10 [==============================] - 1s 152ms/step - loss: 0.2242 - accuracy: 0.9377 - val_loss: 0.3506 - val_accuracy: 0.9151\n",
            "Epoch 35/50\n",
            "10/10 [==============================] - 1s 152ms/step - loss: 0.2188 - accuracy: 0.9395 - val_loss: 0.3451 - val_accuracy: 0.9159\n",
            "Epoch 36/50\n",
            "10/10 [==============================] - 1s 151ms/step - loss: 0.2140 - accuracy: 0.9401 - val_loss: 0.3401 - val_accuracy: 0.9172\n",
            "Epoch 37/50\n",
            "10/10 [==============================] - 1s 150ms/step - loss: 0.2093 - accuracy: 0.9421 - val_loss: 0.3355 - val_accuracy: 0.9186\n",
            "Epoch 38/50\n",
            "10/10 [==============================] - 1s 152ms/step - loss: 0.2049 - accuracy: 0.9436 - val_loss: 0.3312 - val_accuracy: 0.9187\n",
            "Epoch 39/50\n",
            "10/10 [==============================] - 1s 149ms/step - loss: 0.2005 - accuracy: 0.9447 - val_loss: 0.3272 - val_accuracy: 0.9197\n",
            "Epoch 40/50\n",
            "10/10 [==============================] - 1s 151ms/step - loss: 0.1965 - accuracy: 0.9462 - val_loss: 0.3231 - val_accuracy: 0.9205\n",
            "Epoch 41/50\n",
            "10/10 [==============================] - 1s 150ms/step - loss: 0.1924 - accuracy: 0.9470 - val_loss: 0.3192 - val_accuracy: 0.9218\n",
            "Epoch 42/50\n",
            "10/10 [==============================] - 1s 151ms/step - loss: 0.1885 - accuracy: 0.9480 - val_loss: 0.3158 - val_accuracy: 0.9224\n",
            "Epoch 43/50\n",
            "10/10 [==============================] - 1s 149ms/step - loss: 0.1850 - accuracy: 0.9488 - val_loss: 0.3126 - val_accuracy: 0.9229\n",
            "Epoch 44/50\n",
            "10/10 [==============================] - 2s 165ms/step - loss: 0.1812 - accuracy: 0.9497 - val_loss: 0.3090 - val_accuracy: 0.9233\n",
            "Epoch 45/50\n",
            "10/10 [==============================] - 1s 150ms/step - loss: 0.1777 - accuracy: 0.9509 - val_loss: 0.3059 - val_accuracy: 0.9238\n",
            "Epoch 46/50\n",
            "10/10 [==============================] - 1s 151ms/step - loss: 0.1745 - accuracy: 0.9519 - val_loss: 0.3030 - val_accuracy: 0.9247\n",
            "Epoch 47/50\n",
            "10/10 [==============================] - 1s 149ms/step - loss: 0.1713 - accuracy: 0.9524 - val_loss: 0.3000 - val_accuracy: 0.9248\n",
            "Epoch 48/50\n",
            "10/10 [==============================] - 1s 152ms/step - loss: 0.1682 - accuracy: 0.9535 - val_loss: 0.2972 - val_accuracy: 0.9253\n",
            "Epoch 49/50\n",
            "10/10 [==============================] - 1s 151ms/step - loss: 0.1652 - accuracy: 0.9544 - val_loss: 0.2947 - val_accuracy: 0.9259\n",
            "Epoch 50/50\n",
            "10/10 [==============================] - 1s 151ms/step - loss: 0.1624 - accuracy: 0.9545 - val_loss: 0.2921 - val_accuracy: 0.9259\n"
          ],
          "name": "stdout"
        }
      ]
    },
    {
      "cell_type": "code",
      "metadata": {
        "id": "hKnu4GV8UBGg"
      },
      "source": [
        "#Build the CNN model\n",
        "CNN_model = build_model()\n",
        "CNN_model.fit(x=X_unlabel, y = Y_shift, epochs=100, validation_data=(X_test, Y_test))\n",
        "\n",
        "'''\n",
        "#Freeze some of the layers\n",
        "for layer in CNN_model.layers[:]:\n",
        "  layer.trainable = False\n",
        "\n",
        "for i in range(-4, 0):\n",
        "  CNN_model.layers[i].trainable= True\n",
        "model_status(CNN_model)\n",
        "'''\n",
        "\n",
        "#Finetune the dense layers\n",
        "CNN_shift_finetune_history = CNN_model.fit(x=X_label, y = Y_label, epochs=50, steps_per_epoch=10, validation_data=(X_test, Y_test))"
      ],
      "execution_count": null,
      "outputs": []
    },
    {
      "cell_type": "code",
      "metadata": {
        "id": "Lq1AWs8QcoCB"
      },
      "source": [
        "CNN_new_model = build_model()\n",
        "CNN_new_history = CNN_new_model.fit(x=X_label, y = Y_label, epochs=50, steps_per_epoch=10, validation_data=(X_test, Y_test))"
      ],
      "execution_count": null,
      "outputs": []
    },
    {
      "cell_type": "code",
      "metadata": {
        "colab": {
          "base_uri": "https://localhost:8080/",
          "height": 295
        },
        "id": "zqZ_vachdYi2",
        "outputId": "f73f987e-1c95-4826-a1e5-98fe57917491"
      },
      "source": [
        "plt.plot(CNN_random_finetune_history.history['accuracy'])\n",
        "plt.plot(CNN_random_finetune_history.history['val_accuracy'])\n",
        "plt.plot(CNN_shift_finetune_history.history['accuracy'])\n",
        "plt.plot(CNN_shift_finetune_history.history['val_accuracy'])\n",
        "plt.plot(CNN_new_history.history['accuracy'])\n",
        "plt.plot(CNN_new_history.history['val_accuracy'])\n",
        "plt.title('compare model')\n",
        "plt.ylabel('accuracy')\n",
        "plt.xlabel('epoch')\n",
        "plt.legend(['R_Finetune_accuracy', 'R_Finetune_val_accuracy', 'SF_acc', \"SF_val_acc\" , 'Naive_accuracy', 'Naive_val_accuracy'], loc='lower right')\n",
        "plt.show()"
      ],
      "execution_count": 65,
      "outputs": [
        {
          "output_type": "display_data",
          "data": {
            "image/png": "[encoded data removed]",
            "text/plain": [
              "<Figure size 432x288 with 1 Axes>"
            ]
          },
          "metadata": {
            "tags": [],
            "needs_background": "light"
          }
        }
      ]
    }
  ]
}