{
 "cells": [
  {
   "cell_type": "code",
   "execution_count": 1,
   "metadata": {
    "ExecuteTime": {
     "end_time": "2019-11-24T00:15:04.058948Z",
     "start_time": "2019-11-24T00:15:04.056164Z"
    }
   },
   "outputs": [],
   "source": [
    "import math"
   ]
  },
  {
   "cell_type": "code",
   "execution_count": 2,
   "metadata": {
    "ExecuteTime": {
     "end_time": "2019-11-24T00:15:04.075921Z",
     "start_time": "2019-11-24T00:15:04.063906Z"
    }
   },
   "outputs": [],
   "source": [
    "#Base learner used for adaboost\n",
    "def base_learner(list_value,list_weight):\n",
    "    wrong_total = sum(list_weight)\n",
    "    index = 0\n",
    "    wrong_list = [[],[]]\n",
    "    for i in range(len(list_value)+1):\n",
    "        for j in [-1,1]:#swap the sign\n",
    "            wrong_1 = [i for i, n in enumerate(list_value[:i]) if n == j]\n",
    "            wrong_2 = [x + i for x in [i for i, n in enumerate(list_value[i:]) if n == -j]]\n",
    "            wrong = sum(list_weight[i] for i in wrong_1) + sum(list_weight[i] for i in wrong_2)\n",
    "            if(wrong < wrong_total):\n",
    "                wrong_total = wrong\n",
    "                index = i*j\n",
    "                wrong_list = wrong_1 + wrong_2\n",
    "    return [wrong_total, index, wrong_list]"
   ]
  },
  {
   "cell_type": "code",
   "execution_count": 3,
   "metadata": {
    "ExecuteTime": {
     "end_time": "2019-11-24T00:15:04.088921Z",
     "start_time": "2019-11-24T00:15:04.078217Z"
    }
   },
   "outputs": [],
   "source": [
    "#Adaboost function\n",
    "def ada_boost(initial,iteration):\n",
    "    weight = [1/len(initial)]*len(initial)\n",
    "    index = []\n",
    "    cal_weight = []\n",
    "    for i in range(iteration):\n",
    "        learn_result = base_learner(initial, weight)\n",
    "        error = learn_result[0]\n",
    "        alpha = math.log((1-error)/error)/2\n",
    "        #update for prediction\n",
    "        cal_weight.append(alpha)\n",
    "        index.append(learn_result[1])\n",
    "        #Calculate Z\n",
    "        Z = 0\n",
    "        for i in range(len(weight)):\n",
    "            if i in learn_result[2]:\n",
    "                Z += weight[i] * math.exp(alpha)\n",
    "            else:\n",
    "                Z += weight[i] * math.exp(-alpha)\n",
    "        #update weights\n",
    "        for i in range(len(weight)):\n",
    "            if i in learn_result[2]:\n",
    "                weight[i] = weight[i] * math.exp(alpha) / Z\n",
    "            else:\n",
    "                weight[i] = weight[i] * math.exp(-alpha) / Z\n",
    "    return [index,cal_weight]"
   ]
  },
  {
   "cell_type": "code",
   "execution_count": 4,
   "metadata": {
    "ExecuteTime": {
     "end_time": "2019-11-24T00:15:04.098125Z",
     "start_time": "2019-11-24T00:15:04.091315Z"
    },
    "scrolled": true
   },
   "outputs": [
    {
     "name": "stdout",
     "output_type": "stream",
     "text": [
      "[[-3, -9, 6], [0.4236489301936017, 0.6496414920651304, 0.752038698388137]]\n"
     ]
    }
   ],
   "source": [
    "initial = [1,1,1,-1,-1,-1,1,1,1,-1]\n",
    "weight = [1/len(initial)]*len(initial)\n",
    "print(ada_boost(initial,3))"
   ]
  },
  {
   "cell_type": "code",
   "execution_count": 26,
   "metadata": {
    "ExecuteTime": {
     "end_time": "2019-11-24T00:33:40.425780Z",
     "start_time": "2019-11-24T00:33:40.419881Z"
    }
   },
   "outputs": [
    {
     "name": "stdout",
     "output_type": "stream",
     "text": [
      "[1, 1, 1, 1, 1, 1, 1, 1, 1, 1, 1, 1, 1, 1, 1, 1, -1, -1, 1, 1, 1, 1, -1, -1, 1, 1, 1, 1, 1, 1, 1, 1, -1, 1, 1, 1, 1, 1, 1, 1, -1, 1, 1, 1, 1, -1, 1, 1, 1, 1, 1, -1, -1, -1, -1, -1, 1, 1, -1, -1, -1, -1, -1, -1, -1, -1, -1, -1, -1, -1, 1, 1, -1, -1, -1, -1, -1, -1, 1, -1, -1, -1, -1, -1, -1, -1, -1, -1, -1, -1, -1, -1, -1, -1, -1, -1, -1, -1, -1, -1, -1, -1, -1, -1, -1, -1, -1, -1, -1, -1, -1, -1, -1, -1, -1, -1, -1, -1, -1, -1, -1, -1, -1, -1, -1, -1, -1, -1, -1, -1, -1, -1, -1, -1, -1, -1, -1, -1, -1, -1, -1, -1, -1, -1, -1, -1, -1, -1, -1]\n"
     ]
    }
   ],
   "source": [
    "file  = open(\"iris.csv\", \"r\")\n",
    "data_1 = []\n",
    "label = []\n",
    "data = file.readlines()\n",
    "for i in data:\n",
    "    raw = i.replace(\"\\n\",\"\")\n",
    "    raw = raw.split(\",\")\n",
    "    data_1.append(float(raw[0]))\n",
    "    if(raw[4] == 'Iris-setosa'):\n",
    "        label.append(1)\n",
    "    else:\n",
    "        label.append(-1)\n",
    "print(label)"
   ]
  },
  {
   "cell_type": "code",
   "execution_count": 33,
   "metadata": {
    "ExecuteTime": {
     "end_time": "2019-11-24T00:37:24.300914Z",
     "start_time": "2019-11-24T00:37:24.230536Z"
    }
   },
   "outputs": [
    {
     "name": "stdout",
     "output_type": "stream",
     "text": [
      "[[-51, -16, -79, -16, 46], [1.2175371380200624, 0.39883741617143054, 0.49127421108324937, 0.3236705453535474, 0.3329450791845351]]\n"
     ]
    }
   ],
   "source": [
    "print(ada_boost(label,5))\n",
    "result = ada_boost(label,5)\n",
    "predict = []\n",
    "#-sign means prediction is 1 if less than stump, -1 if greater than stump, vice versa\n",
    "#The code is hard coded intend to show the workflow, generalize code would be easier intend to meet your needs\n",
    "for i in range(0,len(label)):\n",
    "    current = 0\n",
    "    current += (1.2175371380200624 if(i < 51) else -1.2175371380200624)\n",
    "    current += (0.39883741617143054 if(i < 16) else -0.39883741617143054)\n",
    "    current += (0.49127421108324937 if(i < 79) else -0.49127421108324937)\n",
    "    current += (0.3236705453535474 if(i < 16) else -0.3236705453535474)\n",
    "    current += (-0.3329450791845351 if(i < 46) else 0.3329450791845351)\n",
    "    predict.append((1 if current >= 0 else -1))\n",
    "\n",
    "wrong = 0\n",
    "for i in range(0,len(label)):\n",
    "    if(predict[i] != label[i]):\n",
    "        wrong += 1"
   ]
  },
  {
   "cell_type": "code",
   "execution_count": 31,
   "metadata": {
    "ExecuteTime": {
     "end_time": "2019-11-24T00:35:42.641273Z",
     "start_time": "2019-11-24T00:35:42.637410Z"
    }
   },
   "outputs": [
    {
     "name": "stdout",
     "output_type": "stream",
     "text": [
      "0.9194630872483222\n"
     ]
    }
   ],
   "source": [
    "#accuracy on a single feature binary prediction \n",
    "print(1 - wrong/len(label))"
   ]
  }
 ],
 "metadata": {
  "kernelspec": {
   "display_name": "Python 3",
   "language": "python",
   "name": "python3"
  },
  "language_info": {
   "codemirror_mode": {
    "name": "ipython",
    "version": 3
   },
   "file_extension": ".py",
   "mimetype": "text/x-python",
   "name": "python",
   "nbconvert_exporter": "python",
   "pygments_lexer": "ipython3",
   "version": "3.7.4"
  },
  "latex_envs": {
   "LaTeX_envs_menu_present": true,
   "autoclose": false,
   "autocomplete": true,
   "bibliofile": "biblio.bib",
   "cite_by": "apalike",
   "current_citInitial": 1,
   "eqLabelWithNumbers": true,
   "eqNumInitial": 1,
   "hotkeys": {
    "equation": "Ctrl-E",
    "itemize": "Ctrl-I"
   },
   "labels_anchors": false,
   "latex_user_defs": false,
   "report_style_numbering": false,
   "user_envs_cfg": false
  },
  "toc": {
   "base_numbering": 1,
   "nav_menu": {},
   "number_sections": true,
   "sideBar": true,
   "skip_h1_title": false,
   "title_cell": "Table of Contents",
   "title_sidebar": "Contents",
   "toc_cell": false,
   "toc_position": {},
   "toc_section_display": true,
   "toc_window_display": false
  },
  "varInspector": {
   "cols": {
    "lenName": 16,
    "lenType": 16,
    "lenVar": 40
   },
   "kernels_config": {
    "python": {
     "delete_cmd_postfix": "",
     "delete_cmd_prefix": "del ",
     "library": "var_list.py",
     "varRefreshCmd": "print(var_dic_list())"
    },
    "r": {
     "delete_cmd_postfix": ") ",
     "delete_cmd_prefix": "rm(",
     "library": "var_list.r",
     "varRefreshCmd": "cat(var_dic_list()) "
    }
   },
   "types_to_exclude": [
    "module",
    "function",
    "builtin_function_or_method",
    "instance",
    "_Feature"
   ],
   "window_display": true
  }
 },
 "nbformat": 4,
 "nbformat_minor": 2
}
