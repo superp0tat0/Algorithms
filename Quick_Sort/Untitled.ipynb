{
 "cells": [
  {
   "cell_type": "code",
   "execution_count": 91,
   "metadata": {
    "ExecuteTime": {
     "end_time": "2020-06-02T01:12:06.507373Z",
     "start_time": "2020-06-02T01:12:06.501069Z"
    }
   },
   "outputs": [],
   "source": [
    "def quick_sort(data):\n",
    "    if(len(data) == 1 or len(data) == 0): #base case\n",
    "        return data\n",
    "    else:\n",
    "        pivot = get_pivot(data)\n",
    "        pointer = -1\n",
    "        counter = 0\n",
    "        \n",
    "        global comparison\n",
    "        comparison += len(data)-1\n",
    "        \n",
    "        while(counter < len(data)):\n",
    "            \n",
    "            if(data[counter] <= data[pivot]):# \"=\" move the pivot to the correct position\n",
    "                pointer += 1\n",
    "                data[counter], data[pointer] = data[pointer], data[counter]\n",
    "            counter += 1\n",
    "        \n",
    "        return quick_sort(data[0:pointer]) + [data[pointer]] + quick_sort(data[pointer+1:])\n",
    "\n",
    "def get_pivot(data):\n",
    "    return len(data)-1\n",
    "    "
   ]
  },
  {
   "cell_type": "code",
   "execution_count": 95,
   "metadata": {
    "ExecuteTime": {
     "end_time": "2020-06-02T01:13:07.289474Z",
     "start_time": "2020-06-02T01:13:07.226409Z"
    }
   },
   "outputs": [
    {
     "name": "stdout",
     "output_type": "stream",
     "text": [
      "160361\n"
     ]
    }
   ],
   "source": [
    "comparison = 0\n",
    "with open('input_data.txt', 'r') as f:\n",
    "    x = f.read().splitlines()\n",
    "x = list(map(int,x))\n",
    "quick_sort(x)\n",
    "print(comparison)"
   ]
  },
  {
   "cell_type": "code",
   "execution_count": 94,
   "metadata": {
    "ExecuteTime": {
     "end_time": "2020-06-02T01:12:58.271511Z",
     "start_time": "2020-06-02T01:12:58.116318Z"
    }
   },
   "outputs": [
    {
     "name": "stdout",
     "output_type": "stream",
     "text": [
      "162085 164123 138382\n"
     ]
    }
   ],
   "source": [
    "def countComparisonsWithFirst(x):\n",
    "    \"\"\" Counts number of comparisons while using Quick Sort with first element of unsorted array as pivot \"\"\"\n",
    "    global count_pivot_first\n",
    "    if len(x) == 1 or len(x) == 0:\n",
    "        return x\n",
    "    else:\n",
    "        count_pivot_first += len(x)-1\n",
    "        i = 0\n",
    "        for j in range(len(x)-1):\n",
    "            if x[j+1] < x[0]:\n",
    "                x[j+1],x[i+1] = x[i+1], x[j+1]\n",
    "                i += 1\n",
    "        x[0],x[i] = x[i],x[0]\n",
    "        first_part = countComparisonsWithFirst(x[:i])\n",
    "        second_part = countComparisonsWithFirst(x[i+1:])\n",
    "        first_part.append(x[i])\n",
    "        return first_part + second_part\n",
    "\n",
    "# Case II\n",
    "# Last element of the unsorted array is chosen as pivot element for sorting using Quick Sort\n",
    "\n",
    "def countComparisonsWithLast(x):\n",
    "    \"\"\" Counts number of comparisons while using Quick Sort with last element of unsorted array as pivot \"\"\"\n",
    "    global count_pivot_last\n",
    "    if len(x) == 1 or len(x) == 0:\n",
    "        return x\n",
    "    else:\n",
    "        count_pivot_last += len(x)-1\n",
    "        x[0],x[-1] = x[-1],x[0]\n",
    "        i = 0\n",
    "        for j in range(len(x)-1):\n",
    "            if x[j+1] < x[0]:\n",
    "                x[j+1],x[i+1] = x[i+1], x[j+1]\n",
    "                i += 1\n",
    "        x[0],x[i] = x[i],x[0]\n",
    "        first_part = countComparisonsWithLast(x[:i])\n",
    "        second_part = countComparisonsWithLast(x[i+1:])\n",
    "        first_part.append(x[i])\n",
    "        return first_part + second_part\n",
    "\n",
    "# Case III\n",
    "# Median-of-three method used to choose pivot element for sorting using Quick Sort\n",
    "\n",
    "def middle_index(x):\n",
    "    \"\"\" Returns the index of the middle element of an array \"\"\"\n",
    "    if len(x) % 2 == 0:\n",
    "        middle_index = len(x)/2 - 1\n",
    "    else:\n",
    "        middle_index = len(x)/2\n",
    "    return middle_index\n",
    "\n",
    "def median_index(x,i,j,k):\n",
    "    \"\"\" Returns the median index of three when passed an array and indices of any 3 elements of that array \"\"\"\n",
    "    i = int(i)\n",
    "    j = int(j)\n",
    "    k = int(k)\n",
    "    if (x[i]-x[j])*(x[i]-x[k]) < 0:\n",
    "        return i\n",
    "    elif (x[j]-x[i])*(x[j]-x[k]) < 0:\n",
    "        return j\n",
    "    else:\n",
    "        return k\n",
    "\n",
    "def countComparisonsMedianOfThree(x):\n",
    "    \"\"\" Counts number of comparisons while using Quick Sort with median-of-three element is chosen as pivot \"\"\"\n",
    "    global count_pivot_median\n",
    "    if len(x) == 1 or len(x) == 0:\n",
    "        return x        \n",
    "    else:\n",
    "        count_pivot_median += len(x)-1\n",
    "        k = median_index(x, 0, middle_index(x), -1)\n",
    "        if k != 0: x[0], x[k] = x[k], x[0]\n",
    "        i = 0\n",
    "        for j in range(len(x)-1):\n",
    "            if x[j+1] < x[0]:\n",
    "                x[j+1],x[i+1] = x[i+1], x[j+1]\n",
    "                i += 1\n",
    "        x[0],x[i] = x[i],x[0]\n",
    "        first_part = countComparisonsMedianOfThree(x[:i])\n",
    "        second_part = countComparisonsMedianOfThree(x[i+1:])\n",
    "        first_part.append(x[i])\n",
    "        return first_part + second_part\n",
    "\n",
    "#####################################################################\n",
    "# initializing counts\n",
    "count_pivot_first = 0; count_pivot_last = 0; count_pivot_median = 0\n",
    "\n",
    "#####################################################################\n",
    "# Cast I\n",
    "# Read the contents of the file into a Python list\n",
    "NUMLIST_FILENAME = \"input_data.txt\"\n",
    "inFile = open(NUMLIST_FILENAME, 'r')\n",
    "\n",
    "with inFile as f: numList = [int(integers.strip()) for integers in f.readlines()]\n",
    "# call functions to count comparisons\n",
    "countComparisonsWithFirst(numList)\n",
    "\n",
    "#####################################################################\n",
    "# Read the contents of the file into a Python list\n",
    "NUMLIST_FILENAME = \"input_data.txt\"\n",
    "inFile = open(NUMLIST_FILENAME, 'r')\n",
    "\n",
    "with inFile as f: numList = [int(integers.strip()) for integers in f.readlines()]\n",
    "# call functions to count comparisons\n",
    "countComparisonsWithLast(numList)\n",
    "\n",
    "#####################################################################\n",
    "# Read the contents of the file into a Python list\n",
    "NUMLIST_FILENAME = \"input_data.txt\"\n",
    "inFile = open(NUMLIST_FILENAME, 'r')\n",
    "\n",
    "with inFile as f: numList = [int(integers.strip()) for integers in f.readlines()]\n",
    "# call functions to count comparisons\n",
    "countComparisonsMedianOfThree(numList)\n",
    "#####################################################################\n",
    "\n",
    "print (count_pivot_first, count_pivot_last, count_pivot_median)"
   ]
  }
 ],
 "metadata": {
  "kernelspec": {
   "display_name": "Python 3",
   "language": "python",
   "name": "python3"
  },
  "language_info": {
   "codemirror_mode": {
    "name": "ipython",
    "version": 3
   },
   "file_extension": ".py",
   "mimetype": "text/x-python",
   "name": "python",
   "nbconvert_exporter": "python",
   "pygments_lexer": "ipython3",
   "version": "3.7.4"
  },
  "latex_envs": {
   "LaTeX_envs_menu_present": true,
   "autoclose": false,
   "autocomplete": true,
   "bibliofile": "biblio.bib",
   "cite_by": "apalike",
   "current_citInitial": 1,
   "eqLabelWithNumbers": true,
   "eqNumInitial": 1,
   "hotkeys": {
    "equation": "Ctrl-E",
    "itemize": "Ctrl-I"
   },
   "labels_anchors": false,
   "latex_user_defs": false,
   "report_style_numbering": false,
   "user_envs_cfg": false
  },
  "toc": {
   "base_numbering": 1,
   "nav_menu": {},
   "number_sections": true,
   "sideBar": true,
   "skip_h1_title": false,
   "title_cell": "Table of Contents",
   "title_sidebar": "Contents",
   "toc_cell": false,
   "toc_position": {},
   "toc_section_display": true,
   "toc_window_display": false
  },
  "varInspector": {
   "cols": {
    "lenName": 16,
    "lenType": 16,
    "lenVar": 40
   },
   "kernels_config": {
    "python": {
     "delete_cmd_postfix": "",
     "delete_cmd_prefix": "del ",
     "library": "var_list.py",
     "varRefreshCmd": "print(var_dic_list())"
    },
    "r": {
     "delete_cmd_postfix": ") ",
     "delete_cmd_prefix": "rm(",
     "library": "var_list.r",
     "varRefreshCmd": "cat(var_dic_list()) "
    }
   },
   "types_to_exclude": [
    "module",
    "function",
    "builtin_function_or_method",
    "instance",
    "_Feature"
   ],
   "window_display": false
  }
 },
 "nbformat": 4,
 "nbformat_minor": 4
}
