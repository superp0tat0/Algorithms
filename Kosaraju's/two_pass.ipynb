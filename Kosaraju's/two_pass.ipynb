{
 "cells": [
  {
   "cell_type": "code",
   "execution_count": 1,
   "metadata": {
    "ExecuteTime": {
     "end_time": "2020-06-17T02:07:33.626874Z",
     "start_time": "2020-06-17T02:07:33.623373Z"
    }
   },
   "outputs": [],
   "source": [
    "from queue import LifoQueue"
   ]
  },
  {
   "cell_type": "code",
   "execution_count": 2,
   "metadata": {
    "ExecuteTime": {
     "end_time": "2020-06-17T02:07:34.556642Z",
     "start_time": "2020-06-17T02:07:34.542949Z"
    }
   },
   "outputs": [],
   "source": [
    "#Perform a DFS search amone G start at index\n",
    "#Label them with ordering t and store the ordering in variable labels\n",
    "def DFS(G, index, explored):\n",
    "    global labels\n",
    "    global t\n",
    "    \n",
    "    stack = LifoQueue(maxsize = 999999)# This stack track the DFS process\n",
    "    order_stack = LifoQueue(maxsize = 999999)# This stack track the DFS ordering\n",
    "    \n",
    "    stack.put(index) #add element to stack\n",
    "    order_stack.put(index)\n",
    "    \n",
    "    while(stack.empty() == False):\n",
    "        current_index = stack.get()\n",
    "        explored.add(current_index) #Visited\n",
    "        all_neighbor_visited = True #Assume all beighbors of current index explored\n",
    "        \n",
    "        if(current_index in G.keys()): #This is a live node, with childrens\n",
    "            for neighbor in G[current_index]:\n",
    "                if(neighbor not in explored):\n",
    "                    stack.put(neighbor)\n",
    "                    order_stack.put(neighbor)\n",
    "                    all_neighbor_visited = False\n",
    "            \n",
    "        if(all_neighbor_visited):\n",
    "            t += 1\n",
    "            labels[order_stack.get()] = t\n",
    "    \n",
    "    while(order_stack.empty() == False):\n",
    "        t += 1\n",
    "        labels[order_stack.get()] = t\n",
    "\n",
    "    return explored;\n",
    "\n",
    "#Reverse the graph G\n",
    "def reverse(G):\n",
    "    new_dic = {}\n",
    "    for key in G.keys():\n",
    "        for item in G[key]:\n",
    "            new_dic.setdefault(item, []).append(key)\n",
    "\n",
    "    return new_dic\n",
    "\n",
    "#Count how many variables in one DFS call\n",
    "def DFS_count(G, index, explored):\n",
    "    \n",
    "    original_size = len(explored)\n",
    "    stack = LifoQueue(maxsize = 999999)# This stack track the DFS process\n",
    "    stack.put(index) #add element to stack\n",
    "    \n",
    "    while(stack.empty() == False):\n",
    "        current_index = stack.get()\n",
    "        explored.add(current_index) #Visited\n",
    "        \n",
    "        if(current_index in G.keys()): #This is a live node, with childrens\n",
    "            for neighbor in G[current_index]:\n",
    "                if(neighbor not in explored):\n",
    "                    stack.put(neighbor)\n",
    "\n",
    "    return (len(explored) - original_size, explored)\n",
    "\n",
    "#Update the graph with map_list\n",
    "def update(G, map_list):\n",
    "    new_dic = {}\n",
    "    for key in G.keys():\n",
    "        for item in G[key]:\n",
    "            new_dic.setdefault(map_list[key], []).append(map_list[item])\n",
    "    \n",
    "    return new_dic"
   ]
  },
  {
   "cell_type": "code",
   "execution_count": 3,
   "metadata": {
    "ExecuteTime": {
     "end_time": "2020-06-17T02:08:04.425063Z",
     "start_time": "2020-06-17T02:08:04.414730Z"
    }
   },
   "outputs": [
    {
     "name": "stdout",
     "output_type": "stream",
     "text": [
      "12\n",
      "{}\n",
      "6\n",
      "{11: 1, 8: 2, 7: 3, 9: 4, 10: 5, 12: 6}\n",
      "5\n",
      "{11: 1, 8: 2, 7: 3, 9: 4, 10: 5, 12: 6, 3: 7, 6: 8}\n",
      "1\n",
      "{11: 1, 8: 2, 7: 3, 9: 4, 10: 5, 12: 6, 3: 7, 6: 8, 4: 9, 2: 10, 5: 11}\n",
      "{10: [12, 11], 7: [10, 8], 9: [10], 11: [10, 9], 8: [7, 11], 3: [9, 11, 2, 4], 2: [8, 3], 5: [3, 6], 4: [5], 1: [5], 6: [1]}\n",
      "[1, 3, 2, 6]\n"
     ]
    }
   ],
   "source": [
    "labels = {}\n",
    "t = 0\n",
    "\n",
    "#Test cases\n",
    "#test = {1:[7], 2:[5],3:[9],4:[1],5:[8],6:[8,3],7:[9,4],8:[2],9:[6]} pass\n",
    "#test = {1:[4], 2:[8],3:[6],4:[7],5:[2],6:[9],7:[1],8:[5,6],9:[7,3]} pass\n",
    "#test = {1:[2], 2:[6,3,4],3:[1,4],4:[5],5:[4],6:[5,7],7:[6,8],8:[5,7]} pass\n",
    "#test = {1:[2], 2:[3],3:[1,4],4:[],5:[4],6:[4,7],7:[8],8:[6]} pass\n",
    "#test = {1:[2], 2:[3],3:[1,4],4:[3,6],5:[4],6:[4,7],7:[8],8:[6]} pass\n",
    "test = {1:[2], 2:[3,4,5],3:[6],4:[5,7],5:[2,6,7],6:[3,8],7:[8,10],8:[7], 9:[7],10:[9,11],11:[12],12:[10]} #pass\n",
    "\n",
    "#Calculate the ordering on the reversed version\n",
    "for i in range(12, 0, -1):\n",
    "    if(i not in labels.keys()):\n",
    "        print(i)\n",
    "        print(labels)\n",
    "        DFS(test,i, set(labels.keys()))\n",
    "\n",
    "\n",
    "#Update based on the ordering updated G, then calculate the size of SCCs\n",
    "test_rev = update(reverse(test), labels)\n",
    "print(test_rev)\n",
    "rev_explored = set()\n",
    "total_amount = []\n",
    "\n",
    "\n",
    "for i in range(12, 0, -1):\n",
    "    if(i not in rev_explored):\n",
    "        (amount, new_explored) = DFS_count(test_rev, i, rev_explored)\n",
    "        total_amount.append(amount)\n",
    "        rev_explored = new_explored\n",
    "\n",
    "print(total_amount)\n"
   ]
  },
  {
   "cell_type": "code",
   "execution_count": null,
   "metadata": {
    "ExecuteTime": {
     "end_time": "2020-06-16T03:00:49.259841Z",
     "start_time": "2020-06-16T03:00:42.679472Z"
    }
   },
   "outputs": [],
   "source": [
    "#Read the data into test\n",
    "test = {}\n",
    "with open('data.txt', 'r') as f:\n",
    "    x = f.read().splitlines()\n",
    "for value in x:\n",
    "    head = value.split(\" \")[0]\n",
    "    tail = value.split(\" \")[1]\n",
    "    test.setdefault(int(head), []).append(int(tail))\n",
    "print(test[100])"
   ]
  },
  {
   "cell_type": "code",
   "execution_count": null,
   "metadata": {
    "ExecuteTime": {
     "start_time": "2020-06-16T03:00:51.026Z"
    }
   },
   "outputs": [],
   "source": [
    "labels = {}\n",
    "t = 0\n",
    "test_rev = reverse(test)\n",
    "print(\"Finished reversing the process\")\n",
    "#Calculate the ordering on the reversed version\n",
    "for i in range(875714, 0, -1):\n",
    "    if(i not in labels.keys()):\n",
    "        DFS(test_rev,i, set(labels.keys()))\n",
    "    if(i % 10000 == 1):\n",
    "        print(i)"
   ]
  },
  {
   "cell_type": "code",
   "execution_count": null,
   "metadata": {
    "ExecuteTime": {
     "start_time": "2020-06-16T03:00:51.026Z"
    }
   },
   "outputs": [],
   "source": [
    "#Update based on the ordering updated G, then calculate the size of SCCs\n",
    "test_new = update(test_rev, labels)\n",
    "rev_explored = set()\n",
    "total_amount = []"
   ]
  },
  {
   "cell_type": "code",
   "execution_count": null,
   "metadata": {
    "ExecuteTime": {
     "start_time": "2020-06-16T03:00:51.026Z"
    }
   },
   "outputs": [],
   "source": [
    "for i in range(875714, 0, -1):\n",
    "    if(i not in rev_explored):\n",
    "        (amount, new_explored) = DFS_count(test_new, i, rev_explored)\n",
    "        total_amount.append(amount)\n",
    "        rev_explored = new_explored\n",
    "    if(i % 10000 == 1):\n",
    "        print(i)\n",
    "\n",
    "print(total_amount)"
   ]
  }
 ],
 "metadata": {
  "kernelspec": {
   "display_name": "Python 3",
   "language": "python",
   "name": "python3"
  },
  "language_info": {
   "codemirror_mode": {
    "name": "ipython",
    "version": 3
   },
   "file_extension": ".py",
   "mimetype": "text/x-python",
   "name": "python",
   "nbconvert_exporter": "python",
   "pygments_lexer": "ipython3",
   "version": "3.7.4"
  },
  "latex_envs": {
   "LaTeX_envs_menu_present": true,
   "autoclose": false,
   "autocomplete": true,
   "bibliofile": "biblio.bib",
   "cite_by": "apalike",
   "current_citInitial": 1,
   "eqLabelWithNumbers": true,
   "eqNumInitial": 1,
   "hotkeys": {
    "equation": "Ctrl-E",
    "itemize": "Ctrl-I"
   },
   "labels_anchors": false,
   "latex_user_defs": false,
   "report_style_numbering": false,
   "user_envs_cfg": false
  },
  "toc": {
   "base_numbering": 1,
   "nav_menu": {},
   "number_sections": true,
   "sideBar": true,
   "skip_h1_title": false,
   "title_cell": "Table of Contents",
   "title_sidebar": "Contents",
   "toc_cell": false,
   "toc_position": {},
   "toc_section_display": true,
   "toc_window_display": false
  },
  "varInspector": {
   "cols": {
    "lenName": 16,
    "lenType": 16,
    "lenVar": 40
   },
   "kernels_config": {
    "python": {
     "delete_cmd_postfix": "",
     "delete_cmd_prefix": "del ",
     "library": "var_list.py",
     "varRefreshCmd": "print(var_dic_list())"
    },
    "r": {
     "delete_cmd_postfix": ") ",
     "delete_cmd_prefix": "rm(",
     "library": "var_list.r",
     "varRefreshCmd": "cat(var_dic_list()) "
    }
   },
   "types_to_exclude": [
    "module",
    "function",
    "builtin_function_or_method",
    "instance",
    "_Feature"
   ],
   "window_display": false
  }
 },
 "nbformat": 4,
 "nbformat_minor": 4
}
