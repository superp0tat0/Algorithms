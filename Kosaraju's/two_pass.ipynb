{
 "cells": [
  {
   "cell_type": "code",
   "execution_count": 19,
   "metadata": {
    "ExecuteTime": {
     "end_time": "2020-06-16T03:00:38.925299Z",
     "start_time": "2020-06-16T03:00:38.914784Z"
    }
   },
   "outputs": [],
   "source": [
    "import sys\n",
    "sys.setrecursionlimit(10**7) \n",
    "#Perform a DFS search amone G start at index\n",
    "#Label them with ordering t and store the ordering in variable labels\n",
    "def DFS(G, index, explored):\n",
    "    global labels\n",
    "    global t\n",
    "    explored.add(index)\n",
    "    \n",
    "    #If it is a one way pointer, mark it as finished then go back\n",
    "    if(index not in G.keys()):\n",
    "        return;\n",
    "    \n",
    "    for j in G[index]:\n",
    "        if(j not in explored):\n",
    "            DFS(G, j, explored)\n",
    "    t+=1\n",
    "    labels[index] = t\n",
    "    return explored;\n",
    "\n",
    "#Reverse the graph G\n",
    "def reverse(G):\n",
    "    new_dic = {}\n",
    "    for key in G.keys():\n",
    "        for item in G[key]:\n",
    "            new_dic.setdefault(item, []).append(key)\n",
    "\n",
    "    return new_dic\n",
    "\n",
    "#Count how many variables in one DFS call\n",
    "def DFS_count(G,index, explored=[], count=1):\n",
    "    explored.add(index)\n",
    "    #If it is a one way pointer, mark it as finished then go back\n",
    "    if(index not in G.keys()):\n",
    "        return (count, explored)\n",
    "    \n",
    "    for j in G[index]:\n",
    "        if(j not in explored):\n",
    "            count += 1\n",
    "            count = DFS_count(G, j, explored, count)[0]\n",
    "    return (count, explored)\n",
    "\n",
    "#Update the graph with map_list\n",
    "def update(G, map_list):\n",
    "    new_dic = {}\n",
    "    for key in G.keys():\n",
    "        for item in G[key]:\n",
    "            new_dic.setdefault(map_list[key], []).append(map_list[item])\n",
    "    \n",
    "    return new_dic"
   ]
  },
  {
   "cell_type": "code",
   "execution_count": 20,
   "metadata": {
    "ExecuteTime": {
     "end_time": "2020-06-16T03:00:40.886866Z",
     "start_time": "2020-06-16T03:00:40.878223Z"
    }
   },
   "outputs": [
    {
     "name": "stdout",
     "output_type": "stream",
     "text": [
      "[3, 3, 3]\n"
     ]
    }
   ],
   "source": [
    "labels = {}\n",
    "t = 0\n",
    "test = {1:[7], 2:[5],3:[9],4:[1],5:[8],6:[3,8],7:[9,4],8:[2],9:[6]}\n",
    "\n",
    "#Calculate the ordering on the reversed version\n",
    "for i in range(9, 0, -1):\n",
    "    if(i not in labels.keys()):\n",
    "        DFS(test,i,set(labels.keys()))\n",
    "\n",
    "\n",
    "#Update based on the ordering updated G, then calculate the size of SCCs\n",
    "test_rev = update(reverse(test), labels)\n",
    "rev_explored = set()\n",
    "total_amount = []\n",
    "\n",
    "for i in range(9, 0, -1):\n",
    "    if(i not in rev_explored):\n",
    "        (amount, exp) = DFS_count(test_rev, i, rev_explored)\n",
    "        total_amount.append(amount)\n",
    "        rev_explored = rev_explored|exp\n",
    "\n",
    "print(total_amount)"
   ]
  },
  {
   "cell_type": "code",
   "execution_count": 21,
   "metadata": {
    "ExecuteTime": {
     "end_time": "2020-06-16T03:00:49.259841Z",
     "start_time": "2020-06-16T03:00:42.679472Z"
    }
   },
   "outputs": [
    {
     "name": "stdout",
     "output_type": "stream",
     "text": [
      "[112824, 39, 40, 41, 42, 75250, 387407, 57, 387408, 43, 44, 45, 46, 64, 47, 48]\n"
     ]
    }
   ],
   "source": [
    "#Read the data into test\n",
    "test = {}\n",
    "with open('data.txt', 'r') as f:\n",
    "    x = f.read().splitlines()\n",
    "for value in x:\n",
    "    head = value.split(\" \")[0]\n",
    "    tail = value.split(\" \")[1]\n",
    "    test.setdefault(int(head), []).append(int(tail))\n",
    "print(test[100])"
   ]
  },
  {
   "cell_type": "code",
   "execution_count": null,
   "metadata": {
    "ExecuteTime": {
     "start_time": "2020-06-16T03:00:51.026Z"
    }
   },
   "outputs": [],
   "source": [
    "labels = {}\n",
    "t = 0\n",
    "\n",
    "#Calculate the ordering on the reversed version\n",
    "for i in range(9, 0, -1):\n",
    "    if(i not in labels.keys()):\n",
    "        DFS(test,i,set(labels.keys()))\n",
    "\n",
    "\n",
    "#Update based on the ordering updated G, then calculate the size of SCCs\n",
    "test_rev = update(reverse(test), labels)\n",
    "rev_explored = set()\n",
    "total_amount = []\n",
    "\n",
    "for i in range(9, 0, -1):\n",
    "    if(i not in rev_explored):\n",
    "        (amount, exp) = DFS_count(test_rev, i, rev_explored)\n",
    "        total_amount.append(amount)\n",
    "        rev_explored = rev_explored|exp\n",
    "\n",
    "print(total_amount)"
   ]
  }
 ],
 "metadata": {
  "kernelspec": {
   "display_name": "Python 3",
   "language": "python",
   "name": "python3"
  },
  "language_info": {
   "codemirror_mode": {
    "name": "ipython",
    "version": 3
   },
   "file_extension": ".py",
   "mimetype": "text/x-python",
   "name": "python",
   "nbconvert_exporter": "python",
   "pygments_lexer": "ipython3",
   "version": "3.7.4"
  },
  "latex_envs": {
   "LaTeX_envs_menu_present": true,
   "autoclose": false,
   "autocomplete": true,
   "bibliofile": "biblio.bib",
   "cite_by": "apalike",
   "current_citInitial": 1,
   "eqLabelWithNumbers": true,
   "eqNumInitial": 1,
   "hotkeys": {
    "equation": "Ctrl-E",
    "itemize": "Ctrl-I"
   },
   "labels_anchors": false,
   "latex_user_defs": false,
   "report_style_numbering": false,
   "user_envs_cfg": false
  },
  "toc": {
   "base_numbering": 1,
   "nav_menu": {},
   "number_sections": true,
   "sideBar": true,
   "skip_h1_title": false,
   "title_cell": "Table of Contents",
   "title_sidebar": "Contents",
   "toc_cell": false,
   "toc_position": {},
   "toc_section_display": true,
   "toc_window_display": false
  },
  "varInspector": {
   "cols": {
    "lenName": 16,
    "lenType": 16,
    "lenVar": 40
   },
   "kernels_config": {
    "python": {
     "delete_cmd_postfix": "",
     "delete_cmd_prefix": "del ",
     "library": "var_list.py",
     "varRefreshCmd": "print(var_dic_list())"
    },
    "r": {
     "delete_cmd_postfix": ") ",
     "delete_cmd_prefix": "rm(",
     "library": "var_list.r",
     "varRefreshCmd": "cat(var_dic_list()) "
    }
   },
   "types_to_exclude": [
    "module",
    "function",
    "builtin_function_or_method",
    "instance",
    "_Feature"
   ],
   "window_display": false
  }
 },
 "nbformat": 4,
 "nbformat_minor": 4
}
