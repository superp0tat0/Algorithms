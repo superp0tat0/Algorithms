{
 "cells": [
  {
   "cell_type": "code",
   "execution_count": 140,
   "metadata": {
    "ExecuteTime": {
     "end_time": "2020-05-21T21:52:57.156149Z",
     "start_time": "2020-05-21T21:52:57.148842Z"
    }
   },
   "outputs": [],
   "source": [
    "def merge_sort(arr_in):\n",
    "    if(len(arr_in) == 1 or len(arr_in) == 0): return arr_in\n",
    "    else:\n",
    "        arr_h1 = merge_sort(arr_in[0:int(len(arr_in)/2)])\n",
    "        arr_h2 = merge_sort(arr_in[int(len(arr_in)/2):len(arr_in)])\n",
    "        return merge(arr_h1, arr_h2)\n",
    "\n",
    "def merge(arr1, arr2):\n",
    "    result = []\n",
    "    i = 0; j = 0\n",
    "    while(i < len(arr1) and j < len(arr2) ):\n",
    "        if(arr1[i]<arr2[j]):\n",
    "            result.append(arr1[i])\n",
    "            i+=1\n",
    "        else:\n",
    "            result.append(arr2[j])\n",
    "            j+=1\n",
    "    if(i == len(arr1)):\n",
    "        result = result + arr2[j:len(arr2)]\n",
    "    else:\n",
    "        result = result + arr1[i:len(arr1)]\n",
    "    return result"
   ]
  },
  {
   "cell_type": "code",
   "execution_count": 141,
   "metadata": {
    "ExecuteTime": {
     "end_time": "2020-05-21T21:52:58.358529Z",
     "start_time": "2020-05-21T21:52:58.354868Z"
    }
   },
   "outputs": [
    {
     "name": "stdout",
     "output_type": "stream",
     "text": [
      "[1, 4, 5, 6, 20]\n"
     ]
    }
   ],
   "source": [
    "a = [1, 20, 6, 4, 5]\n",
    "print(merge_sort(a))"
   ]
  },
  {
   "cell_type": "code",
   "execution_count": 156,
   "metadata": {
    "ExecuteTime": {
     "end_time": "2020-05-21T21:57:05.402424Z",
     "start_time": "2020-05-21T21:57:05.393603Z"
    }
   },
   "outputs": [],
   "source": [
    "def count_inversion(arr_in):\n",
    "    if(len(arr_in) == 1 or len(arr_in) == 0): return (arr_in,0)\n",
    "    else:\n",
    "        (arr_h1, h1_inv_count) = count_inversion(arr_in[0:int(len(arr_in)/2)])\n",
    "        (arr_h2, h2_inv_count) = count_inversion(arr_in[int(len(arr_in)/2):len(arr_in)])\n",
    "        return merge_inv(arr_h1, arr_h2, h1_inv_count+h2_inv_count)\n",
    "    \n",
    "def merge_inv(arr1, arr2, current_inv):\n",
    "    result = []\n",
    "    i = 0; j = 0\n",
    "    inv_count = 0\n",
    "    while(i < len(arr1) and j < len(arr2) ):\n",
    "        if(arr1[i]<=arr2[j]):\n",
    "            result.append(arr1[i])\n",
    "            i+=1\n",
    "        else:\n",
    "            result.append(arr2[j])\n",
    "            j+=1\n",
    "            inv_count += (len(arr1) - i)\n",
    "    \n",
    "    if(i == len(arr1)):\n",
    "        result = result + arr2[j:len(arr2)]\n",
    "    else:\n",
    "        result = result + arr1[i:len(arr1)]\n",
    "    return (result, current_inv + inv_count)"
   ]
  },
  {
   "cell_type": "code",
   "execution_count": 158,
   "metadata": {
    "ExecuteTime": {
     "end_time": "2020-05-21T21:57:11.674201Z",
     "start_time": "2020-05-21T21:57:11.024381Z"
    }
   },
   "outputs": [
    {
     "name": "stdout",
     "output_type": "stream",
     "text": [
      "2407905288\n"
     ]
    }
   ],
   "source": [
    "with open('Program_input.txt', 'r') as f:\n",
    "    x = f.read().splitlines()\n",
    "x = list(map(int,x))\n",
    "print(count_inversion(x)[1])"
   ]
  }
 ],
 "metadata": {
  "kernelspec": {
   "display_name": "Python 3",
   "language": "python",
   "name": "python3"
  },
  "language_info": {
   "codemirror_mode": {
    "name": "ipython",
    "version": 3
   },
   "file_extension": ".py",
   "mimetype": "text/x-python",
   "name": "python",
   "nbconvert_exporter": "python",
   "pygments_lexer": "ipython3",
   "version": "3.7.4"
  },
  "latex_envs": {
   "LaTeX_envs_menu_present": true,
   "autoclose": false,
   "autocomplete": true,
   "bibliofile": "biblio.bib",
   "cite_by": "apalike",
   "current_citInitial": 1,
   "eqLabelWithNumbers": true,
   "eqNumInitial": 1,
   "hotkeys": {
    "equation": "Ctrl-E",
    "itemize": "Ctrl-I"
   },
   "labels_anchors": false,
   "latex_user_defs": false,
   "report_style_numbering": false,
   "user_envs_cfg": false
  },
  "toc": {
   "base_numbering": 1,
   "nav_menu": {},
   "number_sections": true,
   "sideBar": true,
   "skip_h1_title": false,
   "title_cell": "Table of Contents",
   "title_sidebar": "Contents",
   "toc_cell": false,
   "toc_position": {},
   "toc_section_display": true,
   "toc_window_display": false
  },
  "varInspector": {
   "cols": {
    "lenName": 16,
    "lenType": 16,
    "lenVar": 40
   },
   "kernels_config": {
    "python": {
     "delete_cmd_postfix": "",
     "delete_cmd_prefix": "del ",
     "library": "var_list.py",
     "varRefreshCmd": "print(var_dic_list())"
    },
    "r": {
     "delete_cmd_postfix": ") ",
     "delete_cmd_prefix": "rm(",
     "library": "var_list.r",
     "varRefreshCmd": "cat(var_dic_list()) "
    }
   },
   "types_to_exclude": [
    "module",
    "function",
    "builtin_function_or_method",
    "instance",
    "_Feature"
   ],
   "window_display": false
  }
 },
 "nbformat": 4,
 "nbformat_minor": 4
}
