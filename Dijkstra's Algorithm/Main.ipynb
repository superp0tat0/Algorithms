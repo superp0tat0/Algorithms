{
 "cells": [
  {
   "cell_type": "code",
   "execution_count": 4,
   "metadata": {
    "ExecuteTime": {
     "end_time": "2020-06-24T06:24:01.522518Z",
     "start_time": "2020-06-24T06:24:01.512316Z"
    }
   },
   "outputs": [],
   "source": [
    "import math\n",
    "\n",
    "\n",
    "#Read the data into main_data\n",
    "main_data = {}\n",
    "with open('data.txt', 'r') as f:\n",
    "    x = f.read().split()\n",
    "\n",
    "for i in x:\n",
    "    if not (\",\" in i):\n",
    "        main_data[int(i)] = {}\n",
    "        current_entry = int(i)\n",
    "    else:\n",
    "        connection = i.split(\",\")\n",
    "        main_data[current_entry][int(connection[0])] = int(connection[1])"
   ]
  },
  {
   "cell_type": "code",
   "execution_count": 78,
   "metadata": {
    "ExecuteTime": {
     "end_time": "2020-06-24T07:37:18.835976Z",
     "start_time": "2020-06-24T07:37:18.816042Z"
    }
   },
   "outputs": [],
   "source": [
    "class Heap:\n",
    "    def __init__(self, container = []):\n",
    "        self.container = container\n",
    "    \n",
    "    def insert(self, length, vertex):        \n",
    "        self.container.append((length, vertex))\n",
    "        \n",
    "        #bubble up\n",
    "        index = len(self.container) - 1\n",
    "        while(index > 0):\n",
    "            parent_index = math.ceil(index/2) - 1\n",
    "            if(self.container[parent_index][0] > self.container[index][0]):\n",
    "                self.container[parent_index], self.container[index] = self.container[index], self.container[parent_index]\n",
    "            index = parent_index\n",
    "        \n",
    "    \n",
    "    def extract_min(self):\n",
    "        #extract the root element, use the last element replace the root and then bubble down\n",
    "        result = self.container[0]\n",
    "        self.container[0] = self.container[-1]\n",
    "        self.container.pop(-1)\n",
    "        \n",
    "        #bubble down\n",
    "        index = 0\n",
    "        while(index*2 + 1 < len(self.container)): #The parent still has child\n",
    "            left_child_index = index*2 + 1\n",
    "            right_child_index = index*2 + 2\n",
    "            \n",
    "            if(right_child_index >= len(self.container)): #The parent only has left child\n",
    "                if(self.container[index][0] > self.container[left_child_index][0]): #Left child smaller than parent\n",
    "                    self.container[index], self.container[left_child_index] = \\\n",
    "                    self.container[left_child_index], self.container[index]\n",
    "                index = left_child_index\n",
    "            #both side has child\n",
    "            elif(self.container[left_child_index][0] > self.container[right_child_index][0]):\n",
    "                if(self.container[index][0] > self.container[right_child_index][0]): #(min)Right child smaller than parent\n",
    "                    self.container[index], self.container[right_child_index] = \\\n",
    "                    self.container[right_child_index], self.container[index]\n",
    "                    index = right_child_index\n",
    "                else:\n",
    "                    #Correct position, stop (both child larger than parent)\n",
    "                    index = len(self.container)\n",
    "            else:\n",
    "                if(self.container[index][0] > self.container[left_child_index][0]): #(min)Left child smaller than parent\n",
    "                    self.container[index], self.container[left_child_index] = \\\n",
    "                    self.container[left_child_index], self.container[index]\n",
    "                    index = left_child_index\n",
    "                else:\n",
    "                    #Correct position, stop (both child larger than parent)\n",
    "                    index = len(self.container)\n",
    "            \n",
    "        return result\n",
    "    \n",
    "    def update(self, entry, new_value):\n",
    "        #IMPORTANT!!! since I use heap for dijkstra algorithm, I update since new_value will smaller than the original\n",
    "        for counter in range(0, len(self.container)):\n",
    "            if(self.container[counter][1] == entry):\n",
    "                self.container[counter] = (new_value, entry)\n",
    "                index = counter\n",
    "        \n",
    "        #bubble up from index\n",
    "        while(index > 0):\n",
    "            parent_index = math.ceil(index/2) - 1\n",
    "            if(self.container[parent_index][0] > self.container[index][0]):\n",
    "                self.container[parent_index], self.container[index] = self.container[index], self.container[parent_index]\n",
    "            index = parent_index\n",
    "        \n",
    "        \n",
    "    def __str__(self):\n",
    "        return str(self.container)\n",
    "    \n",
    "    def get_copy(self):\n",
    "        new_heap = Heap(self.container.copy())\n",
    "        return new_heap\n",
    "        \n",
    "    def search(self, entry):\n",
    "        #This function will return the current length from start vertex to entry vertex\n",
    "        for edge in self.container:\n",
    "            if(edge[1] == entry):\n",
    "                return edge[0]\n"
   ]
  },
  {
   "cell_type": "code",
   "execution_count": 83,
   "metadata": {
    "ExecuteTime": {
     "end_time": "2020-06-24T07:39:55.388824Z",
     "start_time": "2020-06-24T07:39:55.381197Z"
    }
   },
   "outputs": [],
   "source": [
    "def get_min(current_map, reached):\n",
    "    copy_map = current_map.copy()\n",
    "    for key in reached:\n",
    "        copy_map.pop(key)\n",
    "    return min(copy_map, key=copy_map.get)\n",
    "\n",
    "def dijkstra(edge,start=1):\n",
    "    #construct map\n",
    "    current_map = {}\n",
    "    for i in range(1,201):\n",
    "        current_map[i] = 1000000\n",
    "    current_map[start] = 0\n",
    "    \n",
    "    reached = set()\n",
    "    while(reached != set(range(1,201))):\n",
    "        entry = get_min(current_map, reached)\n",
    "        reached.add(entry)\n",
    "        for key,value in edge[entry].items():\n",
    "            if(current_map[key] > current_map[entry] + value):\n",
    "                current_map[key] = current_map[entry] + value\n",
    "    \n",
    "    return current_map"
   ]
  },
  {
   "cell_type": "code",
   "execution_count": 84,
   "metadata": {
    "ExecuteTime": {
     "end_time": "2020-06-24T07:39:56.735512Z",
     "start_time": "2020-06-24T07:39:56.727113Z"
    }
   },
   "outputs": [],
   "source": [
    "def heap_min(heap_map, reached):\n",
    "    heap_map = heap_map.get_copy() #get a copy of the heap\n",
    "    \n",
    "    new_edge = heap_map.extract_min()\n",
    "    while(new_edge[1] in reached):\n",
    "        new_edge = heap_map.extract_min()\n",
    "    \n",
    "    return new_edge\n",
    "\n",
    "def dijkstra_heap(edge,start=1):\n",
    "    #construct map\n",
    "    current_map = Heap()\n",
    "    for i in range(1,201):\n",
    "        if(i == start): current_map.insert(0, i)\n",
    "        else: current_map.insert(1000000, i)\n",
    "    \n",
    "    reached = set()\n",
    "    while(reached != set(range(1,201))):\n",
    "        entry = heap_min(current_map, reached)[1]\n",
    "        reached.add(entry)\n",
    "        for key,value in edge[entry].items():\n",
    "            if(current_map.search(key) > current_map.search(entry) + value):\n",
    "                current_map.update(key, current_map.search(entry) + value)\n",
    "    \n",
    "    return current_map\n"
   ]
  },
  {
   "cell_type": "code",
   "execution_count": 85,
   "metadata": {
    "ExecuteTime": {
     "end_time": "2020-06-24T07:39:58.803278Z",
     "start_time": "2020-06-24T07:39:58.791007Z"
    }
   },
   "outputs": [
    {
     "name": "stdout",
     "output_type": "stream",
     "text": [
      "[2599, 2610, 2947, 2052, 2367, 2399, 2029, 2442, 2505, 3068]\n"
     ]
    }
   ],
   "source": [
    "#Normal solution (O(mn))\n",
    "target = [7,37,59,82,99,115,133,165,188,197]\n",
    "result = dijkstra(main_data, 1)\n",
    "value = []\n",
    "for i in target:\n",
    "    value.append(result[i])\n",
    "print(value)"
   ]
  },
  {
   "cell_type": "code",
   "execution_count": 86,
   "metadata": {
    "ExecuteTime": {
     "end_time": "2020-06-24T07:40:02.921341Z",
     "start_time": "2020-06-24T07:40:02.743533Z"
    }
   },
   "outputs": [
    {
     "ename": "AttributeError",
     "evalue": "'Heap' object has no attribute 'copy'",
     "output_type": "error",
     "traceback": [
      "\u001b[0;31m---------------------------------------------------------------------------\u001b[0m",
      "\u001b[0;31mAttributeError\u001b[0m                            Traceback (most recent call last)",
      "\u001b[0;32m<ipython-input-86-9f201a5f90ae>\u001b[0m in \u001b[0;36m<module>\u001b[0;34m\u001b[0m\n\u001b[1;32m      4\u001b[0m \u001b[0mmin_list\u001b[0m \u001b[0;34m=\u001b[0m \u001b[0;34m{\u001b[0m\u001b[0;34m}\u001b[0m\u001b[0;34m\u001b[0m\u001b[0;34m\u001b[0m\u001b[0m\n\u001b[1;32m      5\u001b[0m \u001b[0;32mfor\u001b[0m \u001b[0mi\u001b[0m \u001b[0;32min\u001b[0m \u001b[0mrange\u001b[0m\u001b[0;34m(\u001b[0m\u001b[0;36m0\u001b[0m\u001b[0;34m,\u001b[0m\u001b[0;36m11\u001b[0m\u001b[0;34m)\u001b[0m\u001b[0;34m:\u001b[0m\u001b[0;34m\u001b[0m\u001b[0;34m\u001b[0m\u001b[0m\n\u001b[0;32m----> 6\u001b[0;31m     \u001b[0mentry\u001b[0m \u001b[0;34m=\u001b[0m \u001b[0mget_min\u001b[0m\u001b[0;34m(\u001b[0m\u001b[0mresult\u001b[0m\u001b[0;34m,\u001b[0m\u001b[0maccessed\u001b[0m\u001b[0;34m)\u001b[0m\u001b[0;34m\u001b[0m\u001b[0;34m\u001b[0m\u001b[0m\n\u001b[0m\u001b[1;32m      7\u001b[0m     \u001b[0maccessed\u001b[0m\u001b[0;34m.\u001b[0m\u001b[0madd\u001b[0m\u001b[0;34m(\u001b[0m\u001b[0mentry\u001b[0m\u001b[0;34m)\u001b[0m\u001b[0;34m\u001b[0m\u001b[0;34m\u001b[0m\u001b[0m\n\u001b[1;32m      8\u001b[0m     \u001b[0mmin_list\u001b[0m\u001b[0;34m[\u001b[0m\u001b[0mentry\u001b[0m\u001b[0;34m]\u001b[0m \u001b[0;34m=\u001b[0m \u001b[0mresult\u001b[0m\u001b[0;34m[\u001b[0m\u001b[0mentry\u001b[0m\u001b[0;34m]\u001b[0m\u001b[0;34m\u001b[0m\u001b[0;34m\u001b[0m\u001b[0m\n",
      "\u001b[0;32m<ipython-input-83-f627a581ae90>\u001b[0m in \u001b[0;36mget_min\u001b[0;34m(current_map, reached)\u001b[0m\n\u001b[1;32m      1\u001b[0m \u001b[0;32mdef\u001b[0m \u001b[0mget_min\u001b[0m\u001b[0;34m(\u001b[0m\u001b[0mcurrent_map\u001b[0m\u001b[0;34m,\u001b[0m \u001b[0mreached\u001b[0m\u001b[0;34m)\u001b[0m\u001b[0;34m:\u001b[0m\u001b[0;34m\u001b[0m\u001b[0;34m\u001b[0m\u001b[0m\n\u001b[0;32m----> 2\u001b[0;31m     \u001b[0mcopy_map\u001b[0m \u001b[0;34m=\u001b[0m \u001b[0mcurrent_map\u001b[0m\u001b[0;34m.\u001b[0m\u001b[0mcopy\u001b[0m\u001b[0;34m(\u001b[0m\u001b[0;34m)\u001b[0m\u001b[0;34m\u001b[0m\u001b[0;34m\u001b[0m\u001b[0m\n\u001b[0m\u001b[1;32m      3\u001b[0m     \u001b[0;32mfor\u001b[0m \u001b[0mkey\u001b[0m \u001b[0;32min\u001b[0m \u001b[0mreached\u001b[0m\u001b[0;34m:\u001b[0m\u001b[0;34m\u001b[0m\u001b[0;34m\u001b[0m\u001b[0m\n\u001b[1;32m      4\u001b[0m         \u001b[0mcopy_map\u001b[0m\u001b[0;34m.\u001b[0m\u001b[0mpop\u001b[0m\u001b[0;34m(\u001b[0m\u001b[0mkey\u001b[0m\u001b[0;34m)\u001b[0m\u001b[0;34m\u001b[0m\u001b[0;34m\u001b[0m\u001b[0m\n\u001b[1;32m      5\u001b[0m     \u001b[0;32mreturn\u001b[0m \u001b[0mmin\u001b[0m\u001b[0;34m(\u001b[0m\u001b[0mcopy_map\u001b[0m\u001b[0;34m,\u001b[0m \u001b[0mkey\u001b[0m\u001b[0;34m=\u001b[0m\u001b[0mcopy_map\u001b[0m\u001b[0;34m.\u001b[0m\u001b[0mget\u001b[0m\u001b[0;34m)\u001b[0m\u001b[0;34m\u001b[0m\u001b[0;34m\u001b[0m\u001b[0m\n",
      "\u001b[0;31mAttributeError\u001b[0m: 'Heap' object has no attribute 'copy'"
     ]
    }
   ],
   "source": [
    "#Heap solution (O(mlogn))\n",
    "result = dijkstra_heap(main_data, 1)\n",
    "accessed = set()\n",
    "min_list = {}\n",
    "for i in range(0,11):\n",
    "    entry = get_min(result,accessed)\n",
    "    accessed.add(entry)\n",
    "    min_list[entry] = result[entry]\n",
    "print(min_list)"
   ]
  }
 ],
 "metadata": {
  "kernelspec": {
   "display_name": "Python 3",
   "language": "python",
   "name": "python3"
  },
  "language_info": {
   "codemirror_mode": {
    "name": "ipython",
    "version": 3
   },
   "file_extension": ".py",
   "mimetype": "text/x-python",
   "name": "python",
   "nbconvert_exporter": "python",
   "pygments_lexer": "ipython3",
   "version": "3.7.4"
  },
  "latex_envs": {
   "LaTeX_envs_menu_present": true,
   "autoclose": false,
   "autocomplete": true,
   "bibliofile": "biblio.bib",
   "cite_by": "apalike",
   "current_citInitial": 1,
   "eqLabelWithNumbers": true,
   "eqNumInitial": 1,
   "hotkeys": {
    "equation": "Ctrl-E",
    "itemize": "Ctrl-I"
   },
   "labels_anchors": false,
   "latex_user_defs": false,
   "report_style_numbering": false,
   "user_envs_cfg": false
  },
  "toc": {
   "base_numbering": 1,
   "nav_menu": {},
   "number_sections": true,
   "sideBar": true,
   "skip_h1_title": false,
   "title_cell": "Table of Contents",
   "title_sidebar": "Contents",
   "toc_cell": false,
   "toc_position": {},
   "toc_section_display": true,
   "toc_window_display": false
  },
  "varInspector": {
   "cols": {
    "lenName": 16,
    "lenType": 16,
    "lenVar": 40
   },
   "kernels_config": {
    "python": {
     "delete_cmd_postfix": "",
     "delete_cmd_prefix": "del ",
     "library": "var_list.py",
     "varRefreshCmd": "print(var_dic_list())"
    },
    "r": {
     "delete_cmd_postfix": ") ",
     "delete_cmd_prefix": "rm(",
     "library": "var_list.r",
     "varRefreshCmd": "cat(var_dic_list()) "
    }
   },
   "types_to_exclude": [
    "module",
    "function",
    "builtin_function_or_method",
    "instance",
    "_Feature"
   ],
   "window_display": false
  }
 },
 "nbformat": 4,
 "nbformat_minor": 4
}
