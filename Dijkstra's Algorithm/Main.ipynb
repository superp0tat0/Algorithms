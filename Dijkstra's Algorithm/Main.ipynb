{
 "cells": [
  {
   "cell_type": "code",
   "execution_count": 11,
   "metadata": {
    "ExecuteTime": {
     "end_time": "2020-06-23T22:15:15.836722Z",
     "start_time": "2020-06-23T22:15:15.826381Z"
    }
   },
   "outputs": [],
   "source": [
    "#Read the data into main_data\n",
    "main_data = {}\n",
    "with open('data.txt', 'r') as f:\n",
    "    x = f.read().split()\n",
    "\n",
    "for i in x:\n",
    "    if not (\",\" in i):\n",
    "        main_data[int(i)] = {}\n",
    "        current_entry = int(i)\n",
    "    else:\n",
    "        connection = i.split(\",\")\n",
    "        main_data[current_entry][int(connection[0])] = int(connection[1])"
   ]
  },
  {
   "cell_type": "code",
   "execution_count": 37,
   "metadata": {
    "ExecuteTime": {
     "end_time": "2020-06-23T22:45:20.874356Z",
     "start_time": "2020-06-23T22:45:20.866832Z"
    }
   },
   "outputs": [],
   "source": [
    "def get_min(current_map, reached):\n",
    "    copy_map = current_map.copy()\n",
    "    for key in reached:\n",
    "        copy_map.pop(key)\n",
    "    return min(copy_map, key=copy_map.get)\n",
    "\n",
    "def dijkstra(edge,start=1):\n",
    "    #construct map\n",
    "    current_map = {}\n",
    "    for i in range(1,201):\n",
    "        current_map[i] = 1000000\n",
    "    current_map[start] = 0\n",
    "    \n",
    "    reached = set()\n",
    "    while(reached != set(range(1,201))):\n",
    "        entry = get_min(current_map, reached)\n",
    "        reached.add(entry)\n",
    "        for key,value in edge[entry].items():\n",
    "            if(current_map[key] > current_map[entry] + value):\n",
    "                current_map[key] = current_map[entry] + value\n",
    "    \n",
    "    return current_map"
   ]
  },
  {
   "cell_type": "code",
   "execution_count": 39,
   "metadata": {
    "ExecuteTime": {
     "end_time": "2020-06-23T22:45:36.628315Z",
     "start_time": "2020-06-23T22:45:36.620218Z"
    }
   },
   "outputs": [],
   "source": [
    "result = dijkstra(main_data, 1)"
   ]
  },
  {
   "cell_type": "code",
   "execution_count": 43,
   "metadata": {
    "ExecuteTime": {
     "end_time": "2020-06-23T22:47:49.848805Z",
     "start_time": "2020-06-23T22:47:49.843227Z"
    }
   },
   "outputs": [
    {
     "name": "stdout",
     "output_type": "stream",
     "text": [
      "{1: 0, 114: 508, 140: 546, 92: 647, 145: 648, 129: 676, 70: 743, 9: 745, 199: 815, 65: 826, 80: 982}\n"
     ]
    }
   ],
   "source": [
    "accessed = set()\n",
    "min_list = {}\n",
    "for i in range(0,11):\n",
    "    entry = get_min(result,accessed)\n",
    "    accessed.add(entry)\n",
    "    min_list[entry] = result[entry]\n",
    "print(min_list)"
   ]
  }
 ],
 "metadata": {
  "kernelspec": {
   "display_name": "Python 3",
   "language": "python",
   "name": "python3"
  },
  "language_info": {
   "codemirror_mode": {
    "name": "ipython",
    "version": 3
   },
   "file_extension": ".py",
   "mimetype": "text/x-python",
   "name": "python",
   "nbconvert_exporter": "python",
   "pygments_lexer": "ipython3",
   "version": "3.7.4"
  },
  "latex_envs": {
   "LaTeX_envs_menu_present": true,
   "autoclose": false,
   "autocomplete": true,
   "bibliofile": "biblio.bib",
   "cite_by": "apalike",
   "current_citInitial": 1,
   "eqLabelWithNumbers": true,
   "eqNumInitial": 1,
   "hotkeys": {
    "equation": "Ctrl-E",
    "itemize": "Ctrl-I"
   },
   "labels_anchors": false,
   "latex_user_defs": false,
   "report_style_numbering": false,
   "user_envs_cfg": false
  },
  "toc": {
   "base_numbering": 1,
   "nav_menu": {},
   "number_sections": true,
   "sideBar": true,
   "skip_h1_title": false,
   "title_cell": "Table of Contents",
   "title_sidebar": "Contents",
   "toc_cell": false,
   "toc_position": {},
   "toc_section_display": true,
   "toc_window_display": false
  },
  "varInspector": {
   "cols": {
    "lenName": 16,
    "lenType": 16,
    "lenVar": 40
   },
   "kernels_config": {
    "python": {
     "delete_cmd_postfix": "",
     "delete_cmd_prefix": "del ",
     "library": "var_list.py",
     "varRefreshCmd": "print(var_dic_list())"
    },
    "r": {
     "delete_cmd_postfix": ") ",
     "delete_cmd_prefix": "rm(",
     "library": "var_list.r",
     "varRefreshCmd": "cat(var_dic_list()) "
    }
   },
   "types_to_exclude": [
    "module",
    "function",
    "builtin_function_or_method",
    "instance",
    "_Feature"
   ],
   "window_display": false
  }
 },
 "nbformat": 4,
 "nbformat_minor": 4
}
