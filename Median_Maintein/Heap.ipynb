{
 "cells": [
  {
   "cell_type": "code",
   "execution_count": 1,
   "metadata": {
    "ExecuteTime": {
     "end_time": "2020-06-24T11:13:04.673333Z",
     "start_time": "2020-06-24T11:13:04.670392Z"
    }
   },
   "outputs": [],
   "source": [
    "import math"
   ]
  },
  {
   "cell_type": "code",
   "execution_count": 2,
   "metadata": {
    "ExecuteTime": {
     "end_time": "2020-06-24T11:13:04.701494Z",
     "start_time": "2020-06-24T11:13:04.677153Z"
    }
   },
   "outputs": [],
   "source": [
    "class minHeap:\n",
    "    def __init__(self, container = []):\n",
    "        self.container = container\n",
    "    \n",
    "    def insert(self, value):        \n",
    "        self.container.append(value)\n",
    "        \n",
    "        #bubble up\n",
    "        index = len(self.container) - 1\n",
    "        while(index > 0):\n",
    "            parent_index = math.ceil(index/2) - 1\n",
    "            if(self.container[parent_index] > self.container[index]):\n",
    "                self.container[parent_index], self.container[index] = self.container[index], self.container[parent_index]\n",
    "            index = parent_index\n",
    "            \n",
    "    def extract_min(self):\n",
    "        #extract the root element, use the last element replace the root and then bubble down\n",
    "        result = self.container[0]\n",
    "        self.container[0] = self.container[-1]\n",
    "        self.container.pop(-1)\n",
    "        \n",
    "        #bubble down\n",
    "        index = 0\n",
    "        while(index*2 + 1 < len(self.container)): #The parent still has child\n",
    "            left_child_index = index*2 + 1\n",
    "            right_child_index = index*2 + 2\n",
    "            \n",
    "            if(right_child_index >= len(self.container)): #The parent only has left child\n",
    "                if(self.container[index] > self.container[left_child_index]): #Left child smaller than parent\n",
    "                    self.container[index], self.container[left_child_index] = \\\n",
    "                    self.container[left_child_index], self.container[index]\n",
    "                index = left_child_index\n",
    "            #both side has child\n",
    "            elif(self.container[left_child_index] > self.container[right_child_index]):\n",
    "                if(self.container[index] > self.container[right_child_index]): #(min)Right child smaller than parent\n",
    "                    self.container[index], self.container[right_child_index] = \\\n",
    "                    self.container[right_child_index], self.container[index]\n",
    "                    index = right_child_index\n",
    "                else:\n",
    "                    #Correct position, stop (both child larger than parent)\n",
    "                    index = len(self.container)\n",
    "            else:\n",
    "                if(self.container[index] > self.container[left_child_index]): #(min)Left child smaller than parent\n",
    "                    self.container[index], self.container[left_child_index] = \\\n",
    "                    self.container[left_child_index], self.container[index]\n",
    "                    index = left_child_index\n",
    "                else:\n",
    "                    #Correct position, stop (both child larger than parent)\n",
    "                    index = len(self.container)\n",
    "            \n",
    "        return result\n",
    "    \n",
    "    def length(self):\n",
    "        return len(self.container)\n",
    "    \n",
    "    def get_root(self):\n",
    "        return self.container[0]\n",
    "        \n",
    "    def __str__(self):\n",
    "        return str(self.container)\n",
    "    \n",
    "class maxHeap:\n",
    "    def __init__(self, container = []):\n",
    "        self.container = container\n",
    "    \n",
    "    def insert(self, value):        \n",
    "        self.container.append(value)\n",
    "        \n",
    "        #bubble up\n",
    "        index = len(self.container) - 1\n",
    "        while(index > 0):\n",
    "            parent_index = math.ceil(index/2) - 1\n",
    "            if(self.container[parent_index] < self.container[index]):\n",
    "                self.container[parent_index], self.container[index] = self.container[index], self.container[parent_index]\n",
    "            index = parent_index\n",
    "    \n",
    "    def extract_max(self):\n",
    "        #extract the root element, use the last element replace the root and then bubble down\n",
    "        result = self.container[0]\n",
    "        self.container[0] = self.container[-1]\n",
    "        self.container.pop(-1)\n",
    "        \n",
    "        #bubble down\n",
    "        index = 0\n",
    "        while(index*2 + 1 < len(self.container)): #The parent still has child\n",
    "            left_child_index = index*2 + 1\n",
    "            right_child_index = index*2 + 2\n",
    "            \n",
    "            if(right_child_index >= len(self.container)): #The parent only has left child\n",
    "                if(self.container[index] < self.container[left_child_index]): #Left child larger than parent\n",
    "                    self.container[index], self.container[left_child_index] = \\\n",
    "                    self.container[left_child_index], self.container[index]\n",
    "                index = left_child_index\n",
    "            #both side has child\n",
    "            elif(self.container[left_child_index] < self.container[right_child_index]):\n",
    "                if(self.container[index] < self.container[right_child_index]): #(max)Right child larger than parent\n",
    "                    self.container[index], self.container[right_child_index] = \\\n",
    "                    self.container[right_child_index], self.container[index]\n",
    "                    index = right_child_index\n",
    "                else:\n",
    "                    #Correct position, stop\n",
    "                    index = len(self.container)\n",
    "            else:\n",
    "                if(self.container[index] < self.container[left_child_index]): #(max)Left child larger than parent\n",
    "                    self.container[index], self.container[left_child_index] = \\\n",
    "                    self.container[left_child_index], self.container[index]\n",
    "                    index = left_child_index\n",
    "                else:\n",
    "                    #Correct position, stop\n",
    "                    index = len(self.container)\n",
    "            \n",
    "        return result\n",
    "    \n",
    "    def length(self):\n",
    "        return len(self.container)\n",
    "    \n",
    "    def get_root(self):\n",
    "        return self.container[0]\n",
    "        \n",
    "    def __str__(self):\n",
    "        return str(self.container)"
   ]
  },
  {
   "cell_type": "code",
   "execution_count": 44,
   "metadata": {
    "ExecuteTime": {
     "end_time": "2020-06-24T11:24:07.201324Z",
     "start_time": "2020-06-24T11:24:07.195316Z"
    }
   },
   "outputs": [],
   "source": [
    "def balance(lower_half, upper_half):\n",
    "    \n",
    "    while(abs(lower_half.length() - upper_half.length()) > 1):\n",
    "        if(lower_half.length() > upper_half.length()):\n",
    "            upper_half.insert(lower_half.extract_max())\n",
    "        else:\n",
    "            lower_half.insert(upper_half.extract_min())\n",
    "    \n",
    "    return;\n",
    "\n",
    "def get_median(lower_half, upper_half):\n",
    "    if(lower_half.length() == upper_half.length()):\n",
    "        return lower_half.get_root()\n",
    "    elif(lower_half.length() > upper_half.length()):\n",
    "        return lower_half.get_root()\n",
    "    else:\n",
    "        return upper_half.get_root()"
   ]
  },
  {
   "cell_type": "code",
   "execution_count": 45,
   "metadata": {
    "ExecuteTime": {
     "end_time": "2020-06-24T11:24:09.111975Z",
     "start_time": "2020-06-24T11:24:09.014996Z"
    }
   },
   "outputs": [],
   "source": [
    "#read the files\n",
    "with open('data.txt', 'r') as f:\n",
    "    x = f.read().split()\n",
    "data = [int(i) for i in x]\n",
    "\n",
    "#Construct the max and min heap\n",
    "lower_half = maxHeap([])\n",
    "upper_half = minHeap([])\n",
    "first_item = data.pop(0)\n",
    "\n",
    "lower_half.insert(first_item)\n",
    "median = [first_item]\n",
    "counter = 0\n",
    "for item in data:\n",
    "    if(item < lower_half.get_root()):\n",
    "        lower_half.insert(item)\n",
    "    else:\n",
    "        upper_half.insert(item)\n",
    "    \n",
    "    balance(lower_half, upper_half)\n",
    "    median += [get_median(lower_half, upper_half)]"
   ]
  },
  {
   "cell_type": "code",
   "execution_count": 46,
   "metadata": {
    "ExecuteTime": {
     "end_time": "2020-06-24T11:24:10.042472Z",
     "start_time": "2020-06-24T11:24:10.038532Z"
    }
   },
   "outputs": [
    {
     "name": "stdout",
     "output_type": "stream",
     "text": [
      "10000\n",
      "1213\n"
     ]
    }
   ],
   "source": [
    "print(len(median))\n",
    "print(sum(median) % 10000)"
   ]
  }
 ],
 "metadata": {
  "kernelspec": {
   "display_name": "Python 3",
   "language": "python",
   "name": "python3"
  },
  "language_info": {
   "codemirror_mode": {
    "name": "ipython",
    "version": 3
   },
   "file_extension": ".py",
   "mimetype": "text/x-python",
   "name": "python",
   "nbconvert_exporter": "python",
   "pygments_lexer": "ipython3",
   "version": "3.7.4"
  },
  "latex_envs": {
   "LaTeX_envs_menu_present": true,
   "autoclose": false,
   "autocomplete": true,
   "bibliofile": "biblio.bib",
   "cite_by": "apalike",
   "current_citInitial": 1,
   "eqLabelWithNumbers": true,
   "eqNumInitial": 1,
   "hotkeys": {
    "equation": "Ctrl-E",
    "itemize": "Ctrl-I"
   },
   "labels_anchors": false,
   "latex_user_defs": false,
   "report_style_numbering": false,
   "user_envs_cfg": false
  },
  "toc": {
   "base_numbering": 1,
   "nav_menu": {},
   "number_sections": true,
   "sideBar": true,
   "skip_h1_title": false,
   "title_cell": "Table of Contents",
   "title_sidebar": "Contents",
   "toc_cell": false,
   "toc_position": {},
   "toc_section_display": true,
   "toc_window_display": false
  },
  "varInspector": {
   "cols": {
    "lenName": 16,
    "lenType": 16,
    "lenVar": 40
   },
   "kernels_config": {
    "python": {
     "delete_cmd_postfix": "",
     "delete_cmd_prefix": "del ",
     "library": "var_list.py",
     "varRefreshCmd": "print(var_dic_list())"
    },
    "r": {
     "delete_cmd_postfix": ") ",
     "delete_cmd_prefix": "rm(",
     "library": "var_list.r",
     "varRefreshCmd": "cat(var_dic_list()) "
    }
   },
   "types_to_exclude": [
    "module",
    "function",
    "builtin_function_or_method",
    "instance",
    "_Feature"
   ],
   "window_display": false
  }
 },
 "nbformat": 4,
 "nbformat_minor": 4
}
