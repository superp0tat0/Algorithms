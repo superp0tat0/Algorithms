{
 "cells": [
  {
   "cell_type": "code",
   "execution_count": 9,
   "metadata": {
    "ExecuteTime": {
     "end_time": "2019-11-05T17:36:53.434783Z",
     "start_time": "2019-11-05T17:36:53.430893Z"
    }
   },
   "outputs": [],
   "source": [
    "#Generate the data set\n",
    "import random\n",
    "import numpy as np\n",
    "import pandas as pd\n",
    "from sklearn.model_selection import train_test_split\n",
    "from sklearn.preprocessing import PolynomialFeatures\n",
    "from sklearn import linear_model\n",
    "from sklearn.pipeline import Pipeline\n",
    "from sklearn.linear_model import LinearRegression\n",
    "import matplotlib.pyplot as plt\n",
    "import statistics\n",
    "import math"
   ]
  },
  {
   "cell_type": "code",
   "execution_count": 49,
   "metadata": {
    "ExecuteTime": {
     "end_time": "2019-11-05T17:48:20.686030Z",
     "start_time": "2019-11-05T17:48:20.679433Z"
    }
   },
   "outputs": [],
   "source": [
    "def generate_data(x):\n",
    "    result = []\n",
    "    for i in x:\n",
    "        y = 1.7*i + 6 + random.randint(-1,1) + i**3 + 2*i**2\n",
    "        result.append(y)\n",
    "    return result\n",
    "\n",
    "def generate_data_mf(x,feature):\n",
    "    result = []\n",
    "    for i in x: #observations\n",
    "        tem = 0\n",
    "        for j in i[0:feature]: #features used for train\n",
    "            tem += random.randint(-2,2)*j + random.randint(-2,2)*j**2\n",
    "        result.append(tem #generate function\n",
    "                      + 3 #coeffient\n",
    "                      + random.randint(-2,2)*20*math.sin(j) #Extra pattern not in Hn\n",
    "                      + random.randint(-1,1)/2) #noise\n",
    "    return result\n",
    "        "
   ]
  },
  {
   "cell_type": "code",
   "execution_count": 5,
   "metadata": {
    "ExecuteTime": {
     "end_time": "2019-11-05T16:39:29.567251Z",
     "start_time": "2019-11-05T16:39:29.557999Z"
    }
   },
   "outputs": [],
   "source": [
    "#single feature\n",
    "random.seed(121)\n",
    "X = [random.random()*10 for _ in range(2000)]\n",
    "Y = generate_data(X)\n",
    "X = np.array(X)\n",
    "Y = np.array(Y)"
   ]
  },
  {
   "cell_type": "code",
   "execution_count": 50,
   "metadata": {
    "ExecuteTime": {
     "end_time": "2019-11-05T17:48:27.192754Z",
     "start_time": "2019-11-05T17:48:27.160725Z"
    }
   },
   "outputs": [],
   "source": [
    "#Small mltiple feature\n",
    "X = [random.random()*10 for _ in range(20000)]\n",
    "X = np.array(X).reshape(400,50)\n",
    "Y = generate_data_mf(X,10)\n",
    "Y = np.array(Y)"
   ]
  },
  {
   "cell_type": "code",
   "execution_count": 35,
   "metadata": {
    "ExecuteTime": {
     "end_time": "2019-11-05T17:42:27.770318Z",
     "start_time": "2019-11-05T17:42:27.603483Z"
    }
   },
   "outputs": [],
   "source": [
    "#large multiple feature\n",
    "random.seed(181)\n",
    "X = [random.random()*10 for _ in range(200000)]\n",
    "X = np.array(X).reshape(1000,200)\n",
    "Y = generate_data_mf(X,30)\n",
    "Y = np.array(Y)"
   ]
  },
  {
   "cell_type": "code",
   "execution_count": 51,
   "metadata": {
    "ExecuteTime": {
     "end_time": "2019-11-05T17:48:29.526851Z",
     "start_time": "2019-11-05T17:48:29.522515Z"
    }
   },
   "outputs": [],
   "source": [
    "X_train, X_test, y_train, y_test = train_test_split(X, Y, test_size=0.1, random_state=42)"
   ]
  },
  {
   "cell_type": "code",
   "execution_count": 52,
   "metadata": {
    "ExecuteTime": {
     "end_time": "2019-11-05T17:48:32.156255Z",
     "start_time": "2019-11-05T17:48:32.143645Z"
    }
   },
   "outputs": [],
   "source": [
    "def error(x,y): #x-prediction y-real\n",
    "    return statistics.mean(abs(x - y))\n",
    "\n",
    "#Ploynomial regression degress to specify the degree of the feature\n",
    "def train_valid_poly(X_train, X_test, y_train, y_test, degree):\n",
    "    test_error = []\n",
    "    train_error = []\n",
    "    for count in range(0,degree+1):\n",
    "        model = Pipeline([('poly', PolynomialFeatures(count)),('linear', LinearRegression(fit_intercept=False))])\n",
    "        model = model.fit(X_train[:, np.newaxis], y_train)\n",
    "        test_error.append(error(model.predict(X_train[:, np.newaxis]),y_train))\n",
    "        train_error.append(error(model.predict(X_test[:, np.newaxis]),y_test))\n",
    "    return (test_error,train_error)\n",
    "\n",
    "def train_valid_multipoly(X_train, X_test, y_train, y_test, feature, degree):\n",
    "    test_error = []\n",
    "    train_error = []\n",
    "    for count in degree:\n",
    "        for feature_num in range(1,feature+1):\n",
    "            #get first feature_num features\n",
    "            #Reshape dimensions\n",
    "            X_temtrain = X_train[:,:feature_num]\n",
    "            nsamples, nx, ny = X_temtrain[:, np.newaxis].shape\n",
    "            X_temtrain = X_temtrain.reshape((nsamples,nx*ny))\n",
    "\n",
    "            X_temtest = X_test[:,:feature_num]\n",
    "            nsamples, nx, ny = X_temtest[:, np.newaxis].shape\n",
    "            X_temtest = X_temtest.reshape((nsamples,nx*ny))\n",
    "\n",
    "            #Train\n",
    "            model = Pipeline([('poly', PolynomialFeatures(count)),('linear', LinearRegression(fit_intercept=False))])\n",
    "            model = model.fit(X_temtrain, y_train)\n",
    "            train_error.append(error(model.predict(X_temtrain),y_train))\n",
    "            test_error.append(error(model.predict(X_temtest),y_test))\n",
    "\n",
    "    return (test_error,train_error)\n",
    "    "
   ]
  },
  {
   "cell_type": "code",
   "execution_count": 8,
   "metadata": {
    "ExecuteTime": {
     "end_time": "2019-11-05T16:39:49.038519Z",
     "start_time": "2019-11-05T16:39:41.385626Z"
    },
    "scrolled": true
   },
   "outputs": [],
   "source": [
    "#Single feature regression\n",
    "(test_error,train_error) = train_valid_poly(X_train, X_test, y_train, y_test, 130)"
   ]
  },
  {
   "cell_type": "code",
   "execution_count": 53,
   "metadata": {
    "ExecuteTime": {
     "end_time": "2019-11-05T17:48:37.150789Z",
     "start_time": "2019-11-05T17:48:35.109156Z"
    }
   },
   "outputs": [],
   "source": [
    "#Multiple feature regression - small features\n",
    "(test_error,train_error) = train_valid_multipoly(X_train, X_test, y_train, y_test, 50, [2])"
   ]
  },
  {
   "cell_type": "code",
   "execution_count": 38,
   "metadata": {
    "ExecuteTime": {
     "end_time": "2019-11-05T17:45:56.044697Z",
     "start_time": "2019-11-05T17:42:55.668466Z"
    }
   },
   "outputs": [],
   "source": [
    "#Multiple feature regression - large features\n",
    "(test_error,train_error) = train_valid_multipoly(X_train, X_test, y_train, y_test, 200, [2])"
   ]
  },
  {
   "cell_type": "code",
   "execution_count": 54,
   "metadata": {
    "ExecuteTime": {
     "end_time": "2019-11-05T17:48:39.977923Z",
     "start_time": "2019-11-05T17:48:39.807535Z"
    },
    "scrolled": false
   },
   "outputs": [
    {
     "data": {
      "text/plain": [
       "[<matplotlib.lines.Line2D at 0x12c06b290>]"
      ]
     },
     "execution_count": 54,
     "metadata": {},
     "output_type": "execute_result"
    },
    {
     "data": {
      "image/png": "[encoded data removed]",
      "text/plain": [
       "<Figure size 432x288 with 1 Axes>"
      ]
     },
     "metadata": {
      "needs_background": "light"
     },
     "output_type": "display_data"
    }
   ],
   "source": [
    "plt.plot(test_error) #blue\n",
    "plt.plot(train_error) #red"
   ]
  },
  {
   "cell_type": "code",
   "execution_count": 55,
   "metadata": {
    "ExecuteTime": {
     "end_time": "2019-11-05T17:48:42.504307Z",
     "start_time": "2019-11-05T17:48:42.499264Z"
    },
    "scrolled": false
   },
   "outputs": [
    {
     "name": "stdout",
     "output_type": "stream",
     "text": [
      "11\n",
      "24\n",
      "46\n"
     ]
    }
   ],
   "source": [
    "print(test_error.index(min(test_error)))\n",
    "print(test_error.index(max(test_error)))\n",
    "print(train_error.index(min(train_error)))"
   ]
  },
  {
   "cell_type": "code",
   "execution_count": 62,
   "metadata": {
    "ExecuteTime": {
     "end_time": "2019-11-05T17:51:54.646786Z",
     "start_time": "2019-11-05T17:51:54.641600Z"
    }
   },
   "outputs": [
    {
     "name": "stdout",
     "output_type": "stream",
     "text": [
      "48\n",
      "189.01988349983498\n",
      "162.9146434175347\n",
      "285.18801311635906\n"
     ]
    }
   ],
   "source": [
    "print(test_error.index(min(test_error[30:])))\n",
    "\n",
    "print(test_error[48]) #minimum after peak\n",
    "print(test_error[11]) #minimum before peak"
   ]
  }
 ],
 "metadata": {
  "kernelspec": {
   "display_name": "Python 3",
   "language": "python",
   "name": "python3"
  },
  "language_info": {
   "codemirror_mode": {
    "name": "ipython",
    "version": 3
   },
   "file_extension": ".py",
   "mimetype": "text/x-python",
   "name": "python",
   "nbconvert_exporter": "python",
   "pygments_lexer": "ipython3",
   "version": "3.7.4"
  },
  "latex_envs": {
   "LaTeX_envs_menu_present": true,
   "autoclose": false,
   "autocomplete": true,
   "bibliofile": "biblio.bib",
   "cite_by": "apalike",
   "current_citInitial": 1,
   "eqLabelWithNumbers": true,
   "eqNumInitial": 1,
   "hotkeys": {
    "equation": "Ctrl-E",
    "itemize": "Ctrl-I"
   },
   "labels_anchors": false,
   "latex_user_defs": false,
   "report_style_numbering": false,
   "user_envs_cfg": false
  },
  "toc": {
   "base_numbering": 1,
   "nav_menu": {},
   "number_sections": true,
   "sideBar": true,
   "skip_h1_title": false,
   "title_cell": "Table of Contents",
   "title_sidebar": "Contents",
   "toc_cell": false,
   "toc_position": {},
   "toc_section_display": true,
   "toc_window_display": false
  },
  "varInspector": {
   "cols": {
    "lenName": 16,
    "lenType": 16,
    "lenVar": 40
   },
   "kernels_config": {
    "python": {
     "delete_cmd_postfix": "",
     "delete_cmd_prefix": "del ",
     "library": "var_list.py",
     "varRefreshCmd": "print(var_dic_list())"
    },
    "r": {
     "delete_cmd_postfix": ") ",
     "delete_cmd_prefix": "rm(",
     "library": "var_list.r",
     "varRefreshCmd": "cat(var_dic_list()) "
    }
   },
   "position": {
    "height": "162px",
    "left": "789px",
    "right": "20px",
    "top": "8px",
    "width": "517px"
   },
   "types_to_exclude": [
    "module",
    "function",
    "builtin_function_or_method",
    "instance",
    "_Feature"
   ],
   "window_display": true
  }
 },
 "nbformat": 4,
 "nbformat_minor": 2
}
