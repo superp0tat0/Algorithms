{
 "cells": [
  {
   "cell_type": "code",
   "execution_count": 65,
   "metadata": {
    "ExecuteTime": {
     "end_time": "2020-02-13T22:18:18.038688Z",
     "start_time": "2020-02-13T22:18:18.033447Z"
    }
   },
   "outputs": [],
   "source": [
    "#Generate the data set\n",
    "import random\n",
    "import numpy as np\n",
    "import pandas as pd\n",
    "from sklearn.model_selection import train_test_split\n",
    "from sklearn.preprocessing import PolynomialFeatures\n",
    "from sklearn.preprocessing import scale\n",
    "from sklearn import linear_model\n",
    "from sklearn.pipeline import Pipeline\n",
    "from sklearn.linear_model import LinearRegression\n",
    "import matplotlib.pyplot as plt\n",
    "import statistics\n",
    "import math\n",
    "import statsmodels.api as sm \n",
    "import pylab as py "
   ]
  },
  {
   "cell_type": "code",
   "execution_count": 2,
   "metadata": {
    "ExecuteTime": {
     "end_time": "2020-02-13T21:59:11.365474Z",
     "start_time": "2020-02-13T21:59:11.357571Z"
    }
   },
   "outputs": [],
   "source": [
    "def generate_data(x):\n",
    "    result = []\n",
    "    for i in x:\n",
    "        y = 1.7*i + 6 + random.randint(-1,1) + i**3 + 2*i**2\n",
    "        result.append(y)\n",
    "    return result\n",
    "\n",
    "def generate_data_mf(x,feature):\n",
    "    result = []\n",
    "    for i in x: #observations\n",
    "        tem = 0\n",
    "        for j in i[0:feature]: #features used for train\n",
    "            tem += random.randint(-2,2)*j + random.randint(-2,2)*j**2\n",
    "        result.append(tem #generate function\n",
    "                      + 3 #coeffient\n",
    "                      + random.randint(-2,2)*20*math.sin(j) #Extra pattern not in Hn\n",
    "                      + np.random.normal(0,4)) #noise\n",
    "    return result\n",
    "        "
   ]
  },
  {
   "cell_type": "code",
   "execution_count": null,
   "metadata": {
    "ExecuteTime": {
     "end_time": "2020-02-13T21:56:24.707241Z",
     "start_time": "2020-02-13T21:56:24.700728Z"
    }
   },
   "outputs": [],
   "source": [
    "#single feature\n",
    "random.seed(121)\n",
    "X = [random.random()*10 for _ in range(2000)]\n",
    "Y = generate_data(X)\n",
    "X = np.array(X)\n",
    "Y = np.array(Y)"
   ]
  },
  {
   "cell_type": "code",
   "execution_count": 9,
   "metadata": {
    "ExecuteTime": {
     "end_time": "2020-02-13T22:02:38.790168Z",
     "start_time": "2020-02-13T22:02:38.761720Z"
    }
   },
   "outputs": [],
   "source": [
    "#Small mltiple feature\n",
    "X = [random.random()*10 for _ in range(20000)]\n",
    "X = np.array(X).reshape(400,50)\n",
    "Y = generate_data_mf(X,10)\n",
    "Y = np.array(Y)"
   ]
  },
  {
   "cell_type": "code",
   "execution_count": 69,
   "metadata": {
    "ExecuteTime": {
     "end_time": "2020-02-13T22:19:43.742343Z",
     "start_time": "2020-02-13T22:19:43.594304Z"
    }
   },
   "outputs": [],
   "source": [
    "#large multiple feature\n",
    "random.seed(181)\n",
    "X = [random.random()*10 for _ in range(200000)]\n",
    "X = np.array(X).reshape(1000,200)\n",
    "Y = generate_data_mf(X,30)\n",
    "Y = np.array(Y)"
   ]
  },
  {
   "cell_type": "code",
   "execution_count": 4,
   "metadata": {
    "ExecuteTime": {
     "end_time": "2020-02-13T21:59:16.295866Z",
     "start_time": "2020-02-13T21:59:16.290891Z"
    }
   },
   "outputs": [],
   "source": [
    "X_train, X_test, y_train, y_test = train_test_split(X, Y, test_size=0.1, random_state=42)"
   ]
  },
  {
   "cell_type": "code",
   "execution_count": 34,
   "metadata": {
    "ExecuteTime": {
     "end_time": "2020-02-13T22:11:28.495537Z",
     "start_time": "2020-02-13T22:11:28.482523Z"
    }
   },
   "outputs": [],
   "source": [
    "def error(x,y): #x-prediction y-real\n",
    "    return statistics.mean(abs(x - y))\n",
    "\n",
    "def spe_error(x,y): #return the error pattern\n",
    "    return abs(x-y)\n",
    "\n",
    "#Ploynomial regression degress to specify the degree of the feature\n",
    "def train_valid_poly(X_train, X_test, y_train, y_test, degree):\n",
    "    test_error = []\n",
    "    train_error = []\n",
    "    for count in range(0,degree+1):\n",
    "        model = Pipeline([('poly', PolynomialFeatures(count)),('linear', LinearRegression(fit_intercept=False))])\n",
    "        model = model.fit(X_train[:, np.newaxis], y_train)\n",
    "        test_error.append(error(model.predict(X_train[:, np.newaxis]),y_train))\n",
    "        train_error.append(error(model.predict(X_test[:, np.newaxis]),y_test))\n",
    "    return (test_error,train_error)\n",
    "\n",
    "def train_valid_multipoly(X_train, X_test, y_train, y_test, feature, degree, error_feature1=0, error_feature2=0):\n",
    "    test_error = []\n",
    "    train_error = []\n",
    "    spe_error1 = None\n",
    "    spe_error2 = None\n",
    "    for count in degree:\n",
    "        for feature_num in range(1,feature+1):\n",
    "            #get first feature_num features\n",
    "            #Reshape dimensions\n",
    "            X_temtrain = X_train[:,:feature_num]\n",
    "            nsamples, nx, ny = X_temtrain[:, np.newaxis].shape\n",
    "            X_temtrain = X_temtrain.reshape((nsamples,nx*ny))\n",
    "\n",
    "            X_temtest = X_test[:,:feature_num]\n",
    "            nsamples, nx, ny = X_temtest[:, np.newaxis].shape\n",
    "            X_temtest = X_temtest.reshape((nsamples,nx*ny))\n",
    "\n",
    "            #Train\n",
    "            model = Pipeline([('poly', PolynomialFeatures(count)),('linear', LinearRegression(fit_intercept=False))])\n",
    "            model = model.fit(X_temtrain, y_train)\n",
    "            train_error.append(error(model.predict(X_temtrain),y_train))\n",
    "            test_error.append(error(model.predict(X_temtest),y_test))\n",
    "            \n",
    "            if(feature_num == error_feature1):spe_error1 = spe_error(model.predict(X_temtrain),y_train)\n",
    "            if(feature_num == error_feature2):spe_error2 = spe_error(model.predict(X_temtrain),y_train)\n",
    "            \n",
    "    return (test_error,train_error,spe_error1,spe_error2)\n",
    "    "
   ]
  },
  {
   "cell_type": "code",
   "execution_count": null,
   "metadata": {
    "ExecuteTime": {
     "end_time": "2020-02-13T21:58:03.202696Z",
     "start_time": "2020-02-13T21:58:03.176626Z"
    },
    "scrolled": true
   },
   "outputs": [],
   "source": [
    "#Single feature regression\n",
    "(test_error,train_error) = train_valid_poly(X_train, X_test, y_train, y_test, 130)"
   ]
  },
  {
   "cell_type": "code",
   "execution_count": 57,
   "metadata": {
    "ExecuteTime": {
     "end_time": "2020-02-13T22:14:45.163493Z",
     "start_time": "2020-02-13T22:14:42.378604Z"
    }
   },
   "outputs": [],
   "source": [
    "#Multiple feature regression - small features\n",
    "(test_error,train_error,spe_error1,spe_error2) = train_valid_multipoly(X_train, X_test, y_train, y_test, 50, [2],35,48)"
   ]
  },
  {
   "cell_type": "code",
   "execution_count": 84,
   "metadata": {
    "ExecuteTime": {
     "end_time": "2020-02-13T22:24:57.135383Z",
     "start_time": "2020-02-13T22:23:13.735512Z"
    }
   },
   "outputs": [],
   "source": [
    "#Multiple feature regression - large features\n",
    "(test_error,train_error,spe_error1,spe_error2) = train_valid_multipoly(X_train, X_test, y_train, y_test, 200, [2],11,150)"
   ]
  },
  {
   "cell_type": "code",
   "execution_count": 71,
   "metadata": {
    "ExecuteTime": {
     "end_time": "2020-02-13T22:22:00.737872Z",
     "start_time": "2020-02-13T22:22:00.587623Z"
    },
    "scrolled": true
   },
   "outputs": [
    {
     "data": {
      "text/plain": [
       "[<matplotlib.lines.Line2D at 0x1a39d67a90>]"
      ]
     },
     "execution_count": 71,
     "metadata": {},
     "output_type": "execute_result"
    },
    {
     "data": {
      "image/png": "[encoded data removed]",
      "text/plain": [
       "<Figure size 432x288 with 1 Axes>"
      ]
     },
     "metadata": {
      "needs_background": "light"
     },
     "output_type": "display_data"
    }
   ],
   "source": [
    "plt.plot(test_error) #blue\n",
    "plt.plot(train_error) #red"
   ]
  },
  {
   "cell_type": "code",
   "execution_count": 73,
   "metadata": {
    "ExecuteTime": {
     "end_time": "2020-02-13T22:22:05.195375Z",
     "start_time": "2020-02-13T22:22:05.191115Z"
    },
    "scrolled": false
   },
   "outputs": [
    {
     "name": "stdout",
     "output_type": "stream",
     "text": [
      "5\n",
      "40\n",
      "46\n"
     ]
    }
   ],
   "source": [
    "print(test_error.index(min(test_error)))\n",
    "print(test_error.index(max(test_error)))\n",
    "print(train_error.index(min(train_error)))"
   ]
  },
  {
   "cell_type": "code",
   "execution_count": 83,
   "metadata": {
    "ExecuteTime": {
     "end_time": "2020-02-13T22:22:42.091538Z",
     "start_time": "2020-02-13T22:22:42.087321Z"
    }
   },
   "outputs": [
    {
     "name": "stdout",
     "output_type": "stream",
     "text": [
      "297.33133809705413\n",
      "300.58090752957094\n"
     ]
    }
   ],
   "source": [
    "print(test_error[11]) #minimum after peak\n",
    "print(test_error[150]) #minimum before peak"
   ]
  },
  {
   "cell_type": "code",
   "execution_count": 68,
   "metadata": {
    "ExecuteTime": {
     "end_time": "2020-02-13T22:18:53.226248Z",
     "start_time": "2020-02-13T22:18:53.095785Z"
    }
   },
   "outputs": [
    {
     "data": {
      "image/png": "[encoded data removed]",
      "text/plain": [
       "<Figure size 432x288 with 1 Axes>"
      ]
     },
     "metadata": {
      "needs_background": "light"
     },
     "output_type": "display_data"
    }
   ],
   "source": [
    "sm.qqplot(scale(spe_error1),line = '45')\n",
    "py.show()"
   ]
  },
  {
   "cell_type": "code",
   "execution_count": 66,
   "metadata": {
    "ExecuteTime": {
     "end_time": "2020-02-13T22:18:28.307796Z",
     "start_time": "2020-02-13T22:18:28.195100Z"
    }
   },
   "outputs": [
    {
     "data": {
      "image/png": "[encoded data removed]",
      "text/plain": [
       "<Figure size 432x288 with 1 Axes>"
      ]
     },
     "metadata": {
      "needs_background": "light"
     },
     "output_type": "display_data"
    }
   ],
   "source": [
    "sm.qqplot(scale(spe_error2),line ='45')\n",
    "py.show()"
   ]
  }
 ],
 "metadata": {
  "kernelspec": {
   "display_name": "Python 3",
   "language": "python",
   "name": "python3"
  },
  "language_info": {
   "codemirror_mode": {
    "name": "ipython",
    "version": 3
   },
   "file_extension": ".py",
   "mimetype": "text/x-python",
   "name": "python",
   "nbconvert_exporter": "python",
   "pygments_lexer": "ipython3",
   "version": "3.7.4"
  },
  "latex_envs": {
   "LaTeX_envs_menu_present": true,
   "autoclose": false,
   "autocomplete": true,
   "bibliofile": "biblio.bib",
   "cite_by": "apalike",
   "current_citInitial": 1,
   "eqLabelWithNumbers": true,
   "eqNumInitial": 1,
   "hotkeys": {
    "equation": "Ctrl-E",
    "itemize": "Ctrl-I"
   },
   "labels_anchors": false,
   "latex_user_defs": false,
   "report_style_numbering": false,
   "user_envs_cfg": false
  },
  "toc": {
   "base_numbering": 1,
   "nav_menu": {},
   "number_sections": true,
   "sideBar": true,
   "skip_h1_title": false,
   "title_cell": "Table of Contents",
   "title_sidebar": "Contents",
   "toc_cell": false,
   "toc_position": {},
   "toc_section_display": true,
   "toc_window_display": false
  },
  "varInspector": {
   "cols": {
    "lenName": 16,
    "lenType": 16,
    "lenVar": 40
   },
   "kernels_config": {
    "python": {
     "delete_cmd_postfix": "",
     "delete_cmd_prefix": "del ",
     "library": "var_list.py",
     "varRefreshCmd": "print(var_dic_list())"
    },
    "r": {
     "delete_cmd_postfix": ") ",
     "delete_cmd_prefix": "rm(",
     "library": "var_list.r",
     "varRefreshCmd": "cat(var_dic_list()) "
    }
   },
   "position": {
    "height": "162px",
    "left": "789px",
    "right": "20px",
    "top": "8px",
    "width": "517px"
   },
   "types_to_exclude": [
    "module",
    "function",
    "builtin_function_or_method",
    "instance",
    "_Feature"
   ],
   "window_display": true
  }
 },
 "nbformat": 4,
 "nbformat_minor": 2
}
