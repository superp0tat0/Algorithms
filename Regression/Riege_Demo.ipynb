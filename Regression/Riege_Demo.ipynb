{
 "cells": [
  {
   "cell_type": "code",
   "execution_count": 1,
   "metadata": {
    "ExecuteTime": {
     "end_time": "2020-02-13T18:20:05.549549Z",
     "start_time": "2020-02-13T18:20:03.741554Z"
    }
   },
   "outputs": [],
   "source": [
    "import numpy as np\n",
    "import matplotlib.pyplot as plt\n",
    "from sklearn.preprocessing import PolynomialFeatures\n",
    "from sklearn.linear_model import Ridge"
   ]
  },
  {
   "cell_type": "code",
   "execution_count": 2,
   "metadata": {
    "ExecuteTime": {
     "end_time": "2020-02-13T18:20:05.561636Z",
     "start_time": "2020-02-13T18:20:05.551595Z"
    }
   },
   "outputs": [],
   "source": [
    "class Demo_model:\n",
    "    def __init__(self, w, mu, sig):\n",
    "        self._x = np.expand_dims(np.arange(-10,10), axis=1)\n",
    "        self._poly = np.poly1d(w)\n",
    "        self._y = self.generate_data_1d(self._x, mu,sig)\n",
    "        self._polywf = None\n",
    "        self._ploywr2 = None\n",
    "        self._ploywr2_value = None\n",
    "    \n",
    "    def plot(self):\n",
    "        plt.plot(self._x, self._poly(self._x),'g')\n",
    "        plt.plot(self._x, self._polywf(self._x),'b')\n",
    "        plt.plot(self._x, self._ploywr2_value,'r')\n",
    "        plt.show()\n",
    "            \n",
    "    def generate_data_1d(self, x, mu, sig):\n",
    "        num_samples = x.shape[0]\n",
    "        # Generate noise\n",
    "        noise = np.random.normal(loc=mu, scale=sig, size=x.shape)\n",
    "        # Compute outputs y, equal to x^T w plus the noise\n",
    "        y = self._poly(self._x) + noise\n",
    "        return y\n",
    "    \n",
    "    def train(self, poly, r2):\n",
    "        #Fit without regulizer\n",
    "        self._polywf = np.poly1d(np.polyfit(self._x.T[0], self._y.T[0], poly))\n",
    "        \n",
    "        #Fit with l2 regulizer with lamda\n",
    "        po = PolynomialFeatures(poly, include_bias=True)\n",
    "        x = po.fit_transform(self._x.reshape(1, -1).T)\n",
    "        rg = Ridge(alpha = r2)\n",
    "        self._ploywr2 = rg.fit(x,self._y)\n",
    "        self._ploywr2_value = self._ploywr2.predict(x)"
   ]
  },
  {
   "cell_type": "code",
   "execution_count": 17,
   "metadata": {
    "ExecuteTime": {
     "end_time": "2020-02-13T21:09:25.903617Z",
     "start_time": "2020-02-13T21:09:25.900193Z"
    }
   },
   "outputs": [],
   "source": [
    "w = np.array([0.1,0.2,0.1,4])\n",
    "model = Demo_model(w,0,50)"
   ]
  },
  {
   "cell_type": "code",
   "execution_count": 23,
   "metadata": {
    "ExecuteTime": {
     "end_time": "2020-02-13T21:10:35.356559Z",
     "start_time": "2020-02-13T21:10:35.234932Z"
    },
    "scrolled": true
   },
   "outputs": [
    {
     "name": "stderr",
     "output_type": "stream",
     "text": [
      "/opt/anaconda3/lib/python3.7/site-packages/ipykernel_launcher.py:1: RankWarning: Polyfit may be poorly conditioned\n",
      "  \"\"\"Entry point for launching an IPython kernel.\n",
      "/opt/anaconda3/lib/python3.7/site-packages/sklearn/linear_model/ridge.py:189: UserWarning: Singular matrix in solving dual problem. Using least-squares solution instead.\n",
      "  warnings.warn(\"Singular matrix in solving dual problem. Using \"\n"
     ]
    },
    {
     "data": {
      "image/png": "[encoded data removed]",
      "text/plain": [
       "<Figure size 432x288 with 1 Axes>"
      ]
     },
     "metadata": {
      "needs_background": "light"
     },
     "output_type": "display_data"
    }
   ],
   "source": [
    "model.train(100,1)\n",
    "model.plot()"
   ]
  }
 ],
 "metadata": {
  "kernelspec": {
   "display_name": "Python 3",
   "language": "python",
   "name": "python3"
  },
  "language_info": {
   "codemirror_mode": {
    "name": "ipython",
    "version": 3
   },
   "file_extension": ".py",
   "mimetype": "text/x-python",
   "name": "python",
   "nbconvert_exporter": "python",
   "pygments_lexer": "ipython3",
   "version": "3.7.4"
  },
  "latex_envs": {
   "LaTeX_envs_menu_present": true,
   "autoclose": false,
   "autocomplete": true,
   "bibliofile": "biblio.bib",
   "cite_by": "apalike",
   "current_citInitial": 1,
   "eqLabelWithNumbers": true,
   "eqNumInitial": 1,
   "hotkeys": {
    "equation": "Ctrl-E",
    "itemize": "Ctrl-I"
   },
   "labels_anchors": false,
   "latex_user_defs": false,
   "report_style_numbering": false,
   "user_envs_cfg": false
  },
  "toc": {
   "base_numbering": 1,
   "nav_menu": {},
   "number_sections": true,
   "sideBar": true,
   "skip_h1_title": false,
   "title_cell": "Table of Contents",
   "title_sidebar": "Contents",
   "toc_cell": false,
   "toc_position": {},
   "toc_section_display": true,
   "toc_window_display": false
  },
  "varInspector": {
   "cols": {
    "lenName": 16,
    "lenType": 16,
    "lenVar": 40
   },
   "kernels_config": {
    "python": {
     "delete_cmd_postfix": "",
     "delete_cmd_prefix": "del ",
     "library": "var_list.py",
     "varRefreshCmd": "print(var_dic_list())"
    },
    "r": {
     "delete_cmd_postfix": ") ",
     "delete_cmd_prefix": "rm(",
     "library": "var_list.r",
     "varRefreshCmd": "cat(var_dic_list()) "
    }
   },
   "types_to_exclude": [
    "module",
    "function",
    "builtin_function_or_method",
    "instance",
    "_Feature"
   ],
   "window_display": false
  }
 },
 "nbformat": 4,
 "nbformat_minor": 2
}
